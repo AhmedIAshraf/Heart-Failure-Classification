{
  "cells": [
    {
      "cell_type": "markdown",
      "metadata": {
        "id": "CpyyovS-IK7q"
      },
      "source": [
        "# Decision Tree Classifier Implementation"
      ]
    },
    {
      "cell_type": "markdown",
      "metadata": {
        "id": "hwOq4-9gNGtq"
      },
      "source": [
        "This is an implementation of Decision Tree Classifier from scratch."
      ]
    },
    {
      "cell_type": "markdown",
      "metadata": {
        "id": "OwuSLQ1AE8We"
      },
      "source": [
        "## Tools"
      ]
    },
    {
      "cell_type": "code",
      "execution_count": 11,
      "metadata": {
        "id": "RC0jw1duExDq"
      },
      "outputs": [],
      "source": [
        "import numpy as np\n",
        "import pandas as pd\n",
        "import matplotlib.pyplot as plt\n",
        "from sklearn.model_selection import train_test_split\n",
        "from sklearn.metrics import accuracy_score\n",
        "from sklearn.metrics import confusion_matrix\n",
        "from sklearn.metrics import f1_score\n",
        "from sklearn.preprocessing import OneHotEncoder\n",
        "from math import log2"
      ]
    },
    {
      "cell_type": "markdown",
      "metadata": {
        "id": "zi1yIB32ICSo"
      },
      "source": [
        "## Tree Node Class\n"
      ]
    },
    {
      "cell_type": "code",
      "execution_count": 2,
      "metadata": {
        "id": "TLMsIqjlH_Vy"
      },
      "outputs": [],
      "source": [
        "class Node:\n",
        "  def __init__(self, left=None, right=None, info_gain=None, feature_index=None, threshold=None, value=None):\n",
        "    self.left = left\n",
        "    self.right = right\n",
        "    self.info_gain = info_gain\n",
        "    self.feature_index = feature_index\n",
        "    self.threshold = threshold\n",
        "    self.value = value"
      ]
    },
    {
      "cell_type": "markdown",
      "metadata": {
        "id": "VPs_mwBNNxJr"
      },
      "source": [
        "The `Node` class represents a single node in a decision tree structure. It is used to store information about a decision point (for internal nodes) or a predicted value (for leaf nodes). This class is typically part of a decision tree implementation for machine learning tasks such as classification or regression.\n",
        "\n",
        "### Parameters\n",
        "- **left** (*Node, optional*): The left child node of the current node. Defaults to `None`. Used in internal nodes to reference the subtree for cases where the feature value is less than or equal to the threshold.\n",
        "- **right** (*Node, optional*): The right child node of the current node. Defaults to `None`. Used in internal nodes to reference the subtree for cases where the feature value exceeds the threshold.\n",
        "- **info_gain** (*float, optional*): The information gain achieved by splitting the data at this node. Defaults to `None`. Typically used in internal nodes to quantify the quality of the split.\n",
        "- **feature_index** (*int or str, optional*): The index of the feature used for splitting the data at this node. Defaults to `None`. Only applicable to internal nodes.\n",
        "- **threshold** (*float, optional*): The threshold value for the feature used to split the data. Defaults to `None`. Only applicable to internal nodes.\n",
        "- **value** (*any, optional*): The predicted value or class label stored in the node. Defaults to `None`. Typically used in leaf nodes to represent the output of the decision tree.\n",
        "\n",
        "### Usage\n",
        "This class is designed to be used as a building block for constructing a decision tree. Internal nodes will have `feature`, `threshold`, and `info_gain` defined, along with `left` and `right` child nodes. Leaf nodes will have a `value` defined but no children or split criteria."
      ]
    },
    {
      "cell_type": "markdown",
      "metadata": {
        "id": "GBlRRKkCITZD"
      },
      "source": [
        "## Decision Tree Class"
      ]
    },
    {
      "cell_type": "code",
      "execution_count": 3,
      "metadata": {
        "id": "VAi-sSWUH6Rx"
      },
      "outputs": [],
      "source": [
        "class DecisionTreeClassifier:\n",
        "    def __init__(self, max_depth=7, min_samples_split=10):\n",
        "        \"\"\"Initialize the decision tree with hyperparameters.\"\"\"\n",
        "        self.max_depth = max_depth  # Maximum depth of the tree\n",
        "        self.min_samples_split = min_samples_split  # Minimum samples required to split a node\n",
        "        self.root = None  # Root node of the tree, starts as None\n",
        "\n",
        "    def fit(self, X, y):\n",
        "        \"\"\"Train the decision tree using the input features X and target y.\"\"\"\n",
        "        self.root = self.build_tree(X, y)  # Build the tree and set the root\n",
        "\n",
        "    def predict(self, X):\n",
        "        \"\"\"Make predictions for each sample in X.\"\"\"\n",
        "        if self.root is None:\n",
        "            raise ValueError(\"Model has not been trained. Please call 'fit' method first.\")\n",
        "        # Return predictions by traversing the tree for each sample\n",
        "        return [self.make_prediction(x, self.root) for x in X]\n",
        "\n",
        "    def make_prediction(self, x, node):\n",
        "        \"\"\"Recursively traverse the tree to make a prediction for a single sample.\"\"\"\n",
        "        if node.value is not None:  # Leaf node reached\n",
        "            return node.value\n",
        "        # Decide which subtree to follow based on the feature value\n",
        "        if x[node.feature_index] <= node.threshold:\n",
        "            return self.make_prediction(x, node.left)\n",
        "        else:\n",
        "            return self.make_prediction(x, node.right)\n",
        "\n",
        "    def print_tree(self):\n",
        "        \"\"\"Print the structure of the decision tree.\"\"\"\n",
        "        self.print_tree_helper(self.root, 0)  # Start from the root with depth 0\n",
        "\n",
        "    def print_tree_helper(self, node, depth):\n",
        "        \"\"\"Helper method to recursively print the tree with indentation.\"\"\"\n",
        "        if node is None:\n",
        "            return\n",
        "        indent = \" \" * depth  # Indentation for visual hierarchy\n",
        "        if node.value is not None:  # Leaf node\n",
        "            print(f\"{indent}Predict: {node.value}\")\n",
        "        else:  # Internal node\n",
        "            print(f\"{indent}X[{node.feature_index}] <= {node.threshold} -> True:\")\n",
        "            self.print_tree_helper(node.left, depth + 1)\n",
        "            print(f\"{indent}X[{node.feature_index}] > {node.threshold} -> False:\")\n",
        "            self.print_tree_helper(node.right, depth + 1)\n",
        "\n",
        "    def build_tree(self, X, y, depth=0):\n",
        "        \"\"\"Recursively build the decision tree.\"\"\"\n",
        "        m, n = X.shape  # Number of samples (m) and features (n)\n",
        "        is_pure = len(np.unique(y)) == 1  # Check if all labels are the same\n",
        "\n",
        "        # Base case: stop if max depth reached, data is pure, or too few samples\n",
        "        if depth >= self.max_depth or is_pure or m < self.min_samples_split:\n",
        "            majority_class = self.compute_output(y)  # Assign majority class to leaf\n",
        "            return Node(value=majority_class)\n",
        "\n",
        "        # Find the best split and recursively build left and right subtrees\n",
        "        best_split = self.get_best_split(X, y)\n",
        "        left_indices = best_split['left']\n",
        "        right_indices = best_split['right']\n",
        "        left_subtree = self.build_tree(X[left_indices, :], y[left_indices], depth + 1)\n",
        "        right_subtree = self.build_tree(X[right_indices, :], y[right_indices], depth + 1)\n",
        "\n",
        "        # Return a node with the split details and subtrees\n",
        "        return Node(left=left_subtree,\n",
        "                    right=right_subtree,\n",
        "                    info_gain=best_split['info_gain'],\n",
        "                    feature_index=best_split['feature_index'],\n",
        "                    threshold=best_split['threshold'])\n",
        "\n",
        "    def get_best_split(self, X, y):\n",
        "        \"\"\"Find the best feature and threshold to split the data.\"\"\"\n",
        "        _, n = X.shape\n",
        "        best_split = {\n",
        "            'info_gain': float('-inf'),\n",
        "            'threshold': None,\n",
        "            'feature_index': None,\n",
        "            'left': None,\n",
        "            'right': None\n",
        "        }\n",
        "\n",
        "        # Iterate over all features and their unique values as potential thresholds\n",
        "        for feature_index in range(n):\n",
        "            feature_values = X[:, feature_index]\n",
        "            possible_thresholds = np.unique(feature_values)\n",
        "            for threshold in possible_thresholds:\n",
        "                # Split data based on the threshold\n",
        "                left_indices = X[:, feature_index] <= threshold\n",
        "                right_indices = X[:, feature_index] > threshold\n",
        "                left_y = y[left_indices]\n",
        "                right_y = y[right_indices]\n",
        "\n",
        "                if len(left_y) == 0 or len(right_y) == 0:\n",
        "                    continue\n",
        "                \n",
        "                # Calculate information gain for this split\n",
        "                split_info_gain = self.compute_information_gain(y, left_y, right_y)\n",
        "\n",
        "                # Update best split if this one is better\n",
        "                if split_info_gain > best_split['info_gain']:\n",
        "                    best_split['info_gain'] = split_info_gain\n",
        "                    best_split['feature_index'] = feature_index\n",
        "                    best_split['threshold'] = threshold\n",
        "                    best_split['left'] = left_indices\n",
        "                    best_split['right'] = right_indices\n",
        "\n",
        "        return best_split\n",
        "\n",
        "    def compute_output(self, y):\n",
        "        \"\"\"Compute the majority class for a leaf node.\"\"\"\n",
        "        unique_classes, frequency = np.unique(y, return_counts=True)\n",
        "        majority_class = unique_classes[np.argmax(frequency)]  # Most frequent class\n",
        "        # majority_count = frequency.max()\n",
        "        # print(f\"\\nMajority Class: {majority_class} (Count: {majority_count})\")\n",
        "        return int(majority_class)\n",
        "\n",
        "    def compute_entropy(self, y):\n",
        "        \"\"\"Calculate the entropy of a set of labels.\"\"\"\n",
        "        unique_classes, frequencies = np.unique(y, return_counts=True)\n",
        "        n_classes = len(y)\n",
        "        entropy = 0\n",
        "        for frequency in frequencies:\n",
        "            probability = frequency / n_classes\n",
        "            entropy -= probability * log2(probability) if probability > 0 else 0\n",
        "        return entropy\n",
        "\n",
        "    def compute_information_gain(self, y, left_y, right_y):\n",
        "        \"\"\"Calculate information gain from a split.\"\"\"\n",
        "        m = len(y)\n",
        "        left_m = len(left_y)\n",
        "        right_m = len(right_y)\n",
        "\n",
        "        # Entropy before and after the split\n",
        "        parent_entropy = self.compute_entropy(y)\n",
        "        left_entropy = self.compute_entropy(left_y) if left_m > 0 else 0\n",
        "        right_entropy = self.compute_entropy(right_y) if right_m > 0 else 0\n",
        "\n",
        "        # Weighted average of child entropies\n",
        "        weighted_entropy = (left_m / m) * left_entropy + (right_m / m) * right_entropy\n",
        "        information_gain = parent_entropy - weighted_entropy\n",
        "        return information_gain"
      ]
    },
    {
      "cell_type": "markdown",
      "metadata": {
        "id": "4iGkG3DNeHYv"
      },
      "source": [
        "## DecisionTreeClassifier Class\n",
        "\n",
        "The `DecisionTreeClassifier` class implements a basic decision tree classifier. It recursively splits the feature space based on information gain, building a binary tree structure to classify data points. This implementation supports training, prediction, and visualization of the tree structure.\n",
        "\n",
        "### Parameters\n",
        "- **max_depth** (*int, optional*): Maximum depth of the tree. Defaults to 5. Controls overfitting by limiting tree growth.\n",
        "- **min_samples_split** (*int, optional*): Minimum number of samples required to split a node. Defaults to 2. Prevents splits on small datasets.\n",
        "\n",
        "### Methods\n",
        "- **`fit(X, y)`**: Trains the decision tree using feature matrix `X` and target vector `y`. Builds the tree starting from the root.\n",
        "- **`predict(X)`**: Predicts class labels for each sample in `X`. Requires the model to be trained first.\n",
        "- **`make_prediction(x, node)`**: Recursively traverses the tree to predict the class for a single sample `x`.\n",
        "- **`print_tree()`**: Prints the tree structure, showing split conditions and predictions.\n",
        "- **`build_tree(X, y, depth)`**: Recursively constructs the tree by finding the best splits.\n",
        "- **`get_best_split(X, y)`**: Identifies the feature and threshold that maximize information gain.\n",
        "- **`compute_output(y)`**: Determines the majority class for a leaf node.\n",
        "- **`compute_entropy(y)`**: Calculates the entropy of a set of labels.\n",
        "- **`compute_information_gain(y, left_y, right_y)`**: Computes the information gain for a split.\n",
        "\n",
        "### Usage\n",
        "This class is designed for classification tasks. It assumes numerical features and uses entropy and information gain to determine splits. The tree stops growing when it reaches `max_depth`, the data is pure (all labels are the same), or the number of samples is less than `min_samples_split`."
      ]
    },
    {
      "cell_type": "markdown",
      "metadata": {},
      "source": [
        "## Training DecisionTree Classifier on Heart Failure Detection Dataset"
      ]
    },
    {
      "cell_type": "markdown",
      "metadata": {},
      "source": [
        "### Loading dataset"
      ]
    },
    {
      "cell_type": "code",
      "execution_count": null,
      "metadata": {},
      "outputs": [
        {
          "name": "stdout",
          "output_type": "stream",
          "text": [
            "   Age Sex ChestPainType  RestingBP  Cholesterol  FastingBS RestingECG  MaxHR  \\\n",
            "0   40   M           ATA        140          289          0     Normal    172   \n",
            "1   49   F           NAP        160          180          0     Normal    156   \n",
            "2   37   M           ATA        130          283          0         ST     98   \n",
            "3   48   F           ASY        138          214          0     Normal    108   \n",
            "4   54   M           NAP        150          195          0     Normal    122   \n",
            "\n",
            "  ExerciseAngina  Oldpeak ST_Slope  HeartDisease  \n",
            "0              N      0.0       Up             0  \n",
            "1              N      1.0     Flat             1  \n",
            "2              N      0.0       Up             0  \n",
            "3              Y      1.5     Flat             1  \n",
            "4              N      0.0       Up             0  \n"
          ]
        },
        {
          "data": {
            "text/html": [
              "<div>\n",
              "<style scoped>\n",
              "    .dataframe tbody tr th:only-of-type {\n",
              "        vertical-align: middle;\n",
              "    }\n",
              "\n",
              "    .dataframe tbody tr th {\n",
              "        vertical-align: top;\n",
              "    }\n",
              "\n",
              "    .dataframe thead th {\n",
              "        text-align: right;\n",
              "    }\n",
              "</style>\n",
              "<table border=\"1\" class=\"dataframe\">\n",
              "  <thead>\n",
              "    <tr style=\"text-align: right;\">\n",
              "      <th></th>\n",
              "      <th>Age</th>\n",
              "      <th>RestingBP</th>\n",
              "      <th>Cholesterol</th>\n",
              "      <th>FastingBS</th>\n",
              "      <th>MaxHR</th>\n",
              "      <th>Oldpeak</th>\n",
              "      <th>HeartDisease</th>\n",
              "    </tr>\n",
              "  </thead>\n",
              "  <tbody>\n",
              "    <tr>\n",
              "      <th>count</th>\n",
              "      <td>918.000000</td>\n",
              "      <td>918.000000</td>\n",
              "      <td>918.000000</td>\n",
              "      <td>918.000000</td>\n",
              "      <td>918.000000</td>\n",
              "      <td>918.000000</td>\n",
              "      <td>918.000000</td>\n",
              "    </tr>\n",
              "    <tr>\n",
              "      <th>mean</th>\n",
              "      <td>53.510893</td>\n",
              "      <td>132.396514</td>\n",
              "      <td>198.799564</td>\n",
              "      <td>0.233115</td>\n",
              "      <td>136.809368</td>\n",
              "      <td>0.887364</td>\n",
              "      <td>0.553377</td>\n",
              "    </tr>\n",
              "    <tr>\n",
              "      <th>std</th>\n",
              "      <td>9.432617</td>\n",
              "      <td>18.514154</td>\n",
              "      <td>109.384145</td>\n",
              "      <td>0.423046</td>\n",
              "      <td>25.460334</td>\n",
              "      <td>1.066570</td>\n",
              "      <td>0.497414</td>\n",
              "    </tr>\n",
              "    <tr>\n",
              "      <th>min</th>\n",
              "      <td>28.000000</td>\n",
              "      <td>0.000000</td>\n",
              "      <td>0.000000</td>\n",
              "      <td>0.000000</td>\n",
              "      <td>60.000000</td>\n",
              "      <td>-2.600000</td>\n",
              "      <td>0.000000</td>\n",
              "    </tr>\n",
              "    <tr>\n",
              "      <th>25%</th>\n",
              "      <td>47.000000</td>\n",
              "      <td>120.000000</td>\n",
              "      <td>173.250000</td>\n",
              "      <td>0.000000</td>\n",
              "      <td>120.000000</td>\n",
              "      <td>0.000000</td>\n",
              "      <td>0.000000</td>\n",
              "    </tr>\n",
              "    <tr>\n",
              "      <th>50%</th>\n",
              "      <td>54.000000</td>\n",
              "      <td>130.000000</td>\n",
              "      <td>223.000000</td>\n",
              "      <td>0.000000</td>\n",
              "      <td>138.000000</td>\n",
              "      <td>0.600000</td>\n",
              "      <td>1.000000</td>\n",
              "    </tr>\n",
              "    <tr>\n",
              "      <th>75%</th>\n",
              "      <td>60.000000</td>\n",
              "      <td>140.000000</td>\n",
              "      <td>267.000000</td>\n",
              "      <td>0.000000</td>\n",
              "      <td>156.000000</td>\n",
              "      <td>1.500000</td>\n",
              "      <td>1.000000</td>\n",
              "    </tr>\n",
              "    <tr>\n",
              "      <th>max</th>\n",
              "      <td>77.000000</td>\n",
              "      <td>200.000000</td>\n",
              "      <td>603.000000</td>\n",
              "      <td>1.000000</td>\n",
              "      <td>202.000000</td>\n",
              "      <td>6.200000</td>\n",
              "      <td>1.000000</td>\n",
              "    </tr>\n",
              "  </tbody>\n",
              "</table>\n",
              "</div>"
            ],
            "text/plain": [
              "              Age   RestingBP  Cholesterol   FastingBS       MaxHR  \\\n",
              "count  918.000000  918.000000   918.000000  918.000000  918.000000   \n",
              "mean    53.510893  132.396514   198.799564    0.233115  136.809368   \n",
              "std      9.432617   18.514154   109.384145    0.423046   25.460334   \n",
              "min     28.000000    0.000000     0.000000    0.000000   60.000000   \n",
              "25%     47.000000  120.000000   173.250000    0.000000  120.000000   \n",
              "50%     54.000000  130.000000   223.000000    0.000000  138.000000   \n",
              "75%     60.000000  140.000000   267.000000    0.000000  156.000000   \n",
              "max     77.000000  200.000000   603.000000    1.000000  202.000000   \n",
              "\n",
              "          Oldpeak  HeartDisease  \n",
              "count  918.000000    918.000000  \n",
              "mean     0.887364      0.553377  \n",
              "std      1.066570      0.497414  \n",
              "min     -2.600000      0.000000  \n",
              "25%      0.000000      0.000000  \n",
              "50%      0.600000      1.000000  \n",
              "75%      1.500000      1.000000  \n",
              "max      6.200000      1.000000  "
            ]
          },
          "execution_count": 4,
          "metadata": {},
          "output_type": "execute_result"
        }
      ],
      "source": [
        "heart_df = pd.read_csv('heart.csv')\n",
        "heart_df.describe()"
      ]
    },
    {
      "cell_type": "markdown",
      "metadata": {},
      "source": [
        "### Categorical Features Encoding"
      ]
    },
    {
      "cell_type": "code",
      "execution_count": null,
      "metadata": {},
      "outputs": [],
      "source": [
        "categorical_features = ['Sex', 'ChestPainType', 'RestingECG', 'ExerciseAngina', 'ST_Slope']\n",
        "encoder = OneHotEncoder(drop='first', sparse_output=False)\n",
        "encoded_features = encoder.fit_transform(heart_df[categorical_features])\n",
        "encoded_df = pd.DataFrame(encoded_features, columns=encoder.get_feature_names_out(categorical_features))\n",
        "modified_df = pd.concat([heart_df.drop(categorical_features, axis=1), encoded_df], axis=1)\n",
        "\n",
        "modified_df.describe()"
      ]
    },
    {
      "cell_type": "markdown",
      "metadata": {},
      "source": [
        "### Splitting dataset into training, validation and test sets"
      ]
    },
    {
      "cell_type": "code",
      "execution_count": 6,
      "metadata": {},
      "outputs": [
        {
          "name": "stdout",
          "output_type": "stream",
          "text": [
            "(642, 15)\n",
            "(92, 15)\n",
            "(184, 15)\n"
          ]
        }
      ],
      "source": [
        "X = modified_df.drop('HeartDisease', axis=1)\n",
        "y = modified_df['HeartDisease']\n",
        "X_temp, X_test, y_temp, y_test = train_test_split(X, y, test_size=0.2, random_state=42)\n",
        "X_train, X_val, y_train, y_val = train_test_split(X_temp, y_temp, test_size=0.125, random_state=42)\n",
        "\n",
        "# Convert to NumPy arrays\n",
        "X_train = X_train.to_numpy()\n",
        "X_val = X_val.to_numpy()\n",
        "X_test = X_test.to_numpy()\n",
        "y_train = y_train.to_numpy()\n",
        "y_val = y_val.to_numpy()\n",
        "y_test = y_test.to_numpy()\n",
        "\n",
        "print(X_train.shape)\n",
        "print(X_val.shape)\n",
        "print(X_test.shape)"
      ]
    },
    {
      "cell_type": "markdown",
      "metadata": {},
      "source": [
        "### Training DecisionTreeClassifier Model"
      ]
    },
    {
      "cell_type": "code",
      "execution_count": 7,
      "metadata": {},
      "outputs": [
        {
          "name": "stdout",
          "output_type": "stream",
          "text": [
            "X[14] <= 0.0 -> True:\n",
            " X[12] <= 0.0 -> True:\n",
            "  X[6] <= 0.0 -> True:\n",
            "   X[2] <= 0.0 -> True:\n",
            "    Predict: 1\n",
            "   X[2] > 0.0 -> False:\n",
            "    X[2] <= 220.0 -> True:\n",
            "     Predict: 0\n",
            "    X[2] > 220.0 -> False:\n",
            "     X[1] <= 146.0 -> True:\n",
            "      X[0] <= 53.0 -> True:\n",
            "       Predict: 0\n",
            "      X[0] > 53.0 -> False:\n",
            "       Predict: 0\n",
            "     X[1] > 146.0 -> False:\n",
            "      Predict: 1\n",
            "  X[6] > 0.0 -> False:\n",
            "   X[5] <= 0.0 -> True:\n",
            "    X[7] <= 0.0 -> True:\n",
            "     X[4] <= 97.0 -> True:\n",
            "      Predict: 1\n",
            "     X[4] > 97.0 -> False:\n",
            "      Predict: 1\n",
            "    X[7] > 0.0 -> False:\n",
            "     Predict: 0\n",
            "   X[5] > 0.0 -> False:\n",
            "    X[5] <= 1.2 -> True:\n",
            "     X[2] <= 293.0 -> True:\n",
            "      X[2] <= 273.0 -> True:\n",
            "       Predict: 0\n",
            "      X[2] > 273.0 -> False:\n",
            "       Predict: 1\n",
            "     X[2] > 293.0 -> False:\n",
            "      Predict: 0\n",
            "    X[5] > 1.2 -> False:\n",
            "     X[1] <= 120.0 -> True:\n",
            "      Predict: 1\n",
            "     X[1] > 120.0 -> False:\n",
            "      X[4] <= 155.0 -> True:\n",
            "       Predict: 1\n",
            "      X[4] > 155.0 -> False:\n",
            "       Predict: 0\n",
            " X[12] > 0.0 -> False:\n",
            "  X[2] <= 170.0 -> True:\n",
            "   X[1] <= 178.0 -> True:\n",
            "    Predict: 1\n",
            "   X[1] > 178.0 -> False:\n",
            "    Predict: 0\n",
            "  X[2] > 170.0 -> False:\n",
            "   X[5] <= 2.0 -> True:\n",
            "    X[2] <= 177.0 -> True:\n",
            "     Predict: 0\n",
            "    X[2] > 177.0 -> False:\n",
            "     X[1] <= 110.0 -> True:\n",
            "      X[0] <= 47.0 -> True:\n",
            "       Predict: 1\n",
            "      X[0] > 47.0 -> False:\n",
            "       Predict: 0\n",
            "     X[1] > 110.0 -> False:\n",
            "      X[5] <= 1.0 -> True:\n",
            "       Predict: 1\n",
            "      X[5] > 1.0 -> False:\n",
            "       Predict: 1\n",
            "   X[5] > 2.0 -> False:\n",
            "    X[11] <= 0.0 -> True:\n",
            "     Predict: 1\n",
            "    X[11] > 0.0 -> False:\n",
            "     Predict: 1\n",
            "X[14] > 0.0 -> False:\n",
            " X[2] <= 0.0 -> True:\n",
            "  X[3] <= 0.0 -> True:\n",
            "   X[4] <= 98.0 -> True:\n",
            "    Predict: 1\n",
            "   X[4] > 98.0 -> False:\n",
            "    X[4] <= 154.0 -> True:\n",
            "     X[0] <= 43.0 -> True:\n",
            "      Predict: 1\n",
            "     X[0] > 43.0 -> False:\n",
            "      X[0] <= 66.0 -> True:\n",
            "       Predict: 0\n",
            "      X[0] > 66.0 -> False:\n",
            "       Predict: 1\n",
            "    X[4] > 154.0 -> False:\n",
            "     Predict: 1\n",
            "  X[3] > 0.0 -> False:\n",
            "   Predict: 1\n",
            " X[2] > 0.0 -> False:\n",
            "  X[0] <= 56.0 -> True:\n",
            "   X[7] <= 0.0 -> True:\n",
            "    X[8] <= 0.0 -> True:\n",
            "     X[4] <= 142.0 -> True:\n",
            "      Predict: 0\n",
            "     X[4] > 142.0 -> False:\n",
            "      X[4] <= 173.0 -> True:\n",
            "       Predict: 0\n",
            "      X[4] > 173.0 -> False:\n",
            "       Predict: 0\n",
            "    X[8] > 0.0 -> False:\n",
            "     X[2] <= 149.0 -> True:\n",
            "      Predict: 0\n",
            "     X[2] > 149.0 -> False:\n",
            "      Predict: 0\n",
            "   X[7] > 0.0 -> False:\n",
            "    Predict: 0\n",
            "  X[0] > 56.0 -> False:\n",
            "   X[5] <= 1.8 -> True:\n",
            "    X[8] <= 0.0 -> True:\n",
            "     X[2] <= 303.0 -> True:\n",
            "      X[6] <= 0.0 -> True:\n",
            "       Predict: 0\n",
            "      X[6] > 0.0 -> False:\n",
            "       Predict: 0\n",
            "     X[2] > 303.0 -> False:\n",
            "      Predict: 1\n",
            "    X[8] > 0.0 -> False:\n",
            "     X[2] <= 318.0 -> True:\n",
            "      Predict: 0\n",
            "     X[2] > 318.0 -> False:\n",
            "      Predict: 0\n",
            "   X[5] > 1.8 -> False:\n",
            "    Predict: 1\n"
          ]
        }
      ],
      "source": [
        "decision_tree_classifier = DecisionTreeClassifier()\n",
        "decision_tree_classifier.fit(X_train, y_train)\n",
        "decision_tree_classifier.print_tree()"
      ]
    },
    {
      "cell_type": "markdown",
      "metadata": {},
      "source": [
        "## Tuning Hyperparameters (max depth & minmum samples in split)"
      ]
    },
    {
      "cell_type": "markdown",
      "metadata": {},
      "source": [
        "Manipulating classification error on different combinations of max depth and minimum samples in split using validation set"
      ]
    },
    {
      "cell_type": "code",
      "execution_count": 8,
      "metadata": {},
      "outputs": [],
      "source": [
        "def plot_confusion_matrix(cm):\n",
        "    \"\"\"Plot the confusion matrix.\"\"\"\n",
        "    plt.figure(figsize=(6, 6))\n",
        "    plt.imshow(cm, cmap='Blues', interpolation='nearest')\n",
        "    plt.title('Confusion Matrix')\n",
        "    plt.colorbar(label='Count')\n",
        "    plt.xticks([0, 1], ['Predicted 0', 'Predicted 1'])\n",
        "    plt.yticks([0, 1], ['True 0', 'True 1'])\n",
        "    for i in range(2):\n",
        "        for j in range(2):\n",
        "            plt.text(j, i, cm[i, j], ha='center', va='center', color='black')\n",
        "    plt.xlabel('Predicted')\n",
        "    plt.ylabel('True')\n",
        "    plt.show()"
      ]
    },
    {
      "cell_type": "code",
      "execution_count": 9,
      "metadata": {},
      "outputs": [
        {
          "name": "stdout",
          "output_type": "stream",
          "text": [
            "Misclassification Error (Depth=2, MinSamplesSplit=2): 0.09782608695652174\n",
            "Misclassification Error (Depth=2, MinSamplesSplit=5): 0.09782608695652174\n",
            "Misclassification Error (Depth=2, MinSamplesSplit=10): 0.09782608695652174\n",
            "Misclassification Error (Depth=2, MinSamplesSplit=15): 0.09782608695652174\n",
            "Misclassification Error (Depth=2, MinSamplesSplit=20): 0.09782608695652174\n",
            "Misclassification Error (Depth=2, MinSamplesSplit=25): 0.09782608695652174\n",
            "Misclassification Error (Depth=2, MinSamplesSplit=30): 0.09782608695652174\n",
            "\n",
            "Misclassification Error (Depth=3, MinSamplesSplit=2): 0.10869565217391304\n",
            "Misclassification Error (Depth=3, MinSamplesSplit=5): 0.10869565217391304\n",
            "Misclassification Error (Depth=3, MinSamplesSplit=10): 0.10869565217391304\n",
            "Misclassification Error (Depth=3, MinSamplesSplit=15): 0.10869565217391304\n",
            "Misclassification Error (Depth=3, MinSamplesSplit=20): 0.10869565217391304\n",
            "Misclassification Error (Depth=3, MinSamplesSplit=25): 0.10869565217391304\n",
            "Misclassification Error (Depth=3, MinSamplesSplit=30): 0.10869565217391304\n",
            "\n",
            "Misclassification Error (Depth=5, MinSamplesSplit=2): 0.13043478260869565\n",
            "Misclassification Error (Depth=5, MinSamplesSplit=5): 0.13043478260869565\n",
            "Misclassification Error (Depth=5, MinSamplesSplit=10): 0.13043478260869565\n",
            "Misclassification Error (Depth=5, MinSamplesSplit=15): 0.13043478260869565\n",
            "Misclassification Error (Depth=5, MinSamplesSplit=20): 0.13043478260869565\n",
            "Misclassification Error (Depth=5, MinSamplesSplit=25): 0.13043478260869565\n",
            "Misclassification Error (Depth=5, MinSamplesSplit=30): 0.13043478260869565\n",
            "\n",
            "Misclassification Error (Depth=7, MinSamplesSplit=2): 0.16304347826086957\n",
            "Misclassification Error (Depth=7, MinSamplesSplit=5): 0.16304347826086957\n",
            "Misclassification Error (Depth=7, MinSamplesSplit=10): 0.15217391304347827\n",
            "Misclassification Error (Depth=7, MinSamplesSplit=15): 0.16304347826086957\n",
            "Misclassification Error (Depth=7, MinSamplesSplit=20): 0.16304347826086957\n",
            "Misclassification Error (Depth=7, MinSamplesSplit=25): 0.16304347826086957\n",
            "Misclassification Error (Depth=7, MinSamplesSplit=30): 0.16304347826086957\n",
            "\n",
            "Misclassification Error (Depth=9, MinSamplesSplit=2): 0.15217391304347827\n",
            "Misclassification Error (Depth=9, MinSamplesSplit=5): 0.15217391304347827\n",
            "Misclassification Error (Depth=9, MinSamplesSplit=10): 0.14130434782608695\n",
            "Misclassification Error (Depth=9, MinSamplesSplit=15): 0.15217391304347827\n",
            "Misclassification Error (Depth=9, MinSamplesSplit=20): 0.15217391304347827\n",
            "Misclassification Error (Depth=9, MinSamplesSplit=25): 0.16304347826086957\n",
            "Misclassification Error (Depth=9, MinSamplesSplit=30): 0.16304347826086957\n",
            "\n",
            "Misclassification Error (Depth=11, MinSamplesSplit=2): 0.15217391304347827\n",
            "Misclassification Error (Depth=11, MinSamplesSplit=5): 0.16304347826086957\n",
            "Misclassification Error (Depth=11, MinSamplesSplit=10): 0.15217391304347827\n",
            "Misclassification Error (Depth=11, MinSamplesSplit=15): 0.15217391304347827\n",
            "Misclassification Error (Depth=11, MinSamplesSplit=20): 0.15217391304347827\n",
            "Misclassification Error (Depth=11, MinSamplesSplit=25): 0.16304347826086957\n",
            "Misclassification Error (Depth=11, MinSamplesSplit=30): 0.16304347826086957\n",
            "\n",
            "Misclassification Error (Depth=13, MinSamplesSplit=2): 0.15217391304347827\n",
            "Misclassification Error (Depth=13, MinSamplesSplit=5): 0.16304347826086957\n",
            "Misclassification Error (Depth=13, MinSamplesSplit=10): 0.15217391304347827\n",
            "Misclassification Error (Depth=13, MinSamplesSplit=15): 0.15217391304347827\n",
            "Misclassification Error (Depth=13, MinSamplesSplit=20): 0.15217391304347827\n",
            "Misclassification Error (Depth=13, MinSamplesSplit=25): 0.16304347826086957\n",
            "Misclassification Error (Depth=13, MinSamplesSplit=30): 0.16304347826086957\n",
            "\n",
            "Misclassification Error (Depth=15, MinSamplesSplit=2): 0.15217391304347827\n",
            "Misclassification Error (Depth=15, MinSamplesSplit=5): 0.16304347826086957\n",
            "Misclassification Error (Depth=15, MinSamplesSplit=10): 0.15217391304347827\n",
            "Misclassification Error (Depth=15, MinSamplesSplit=15): 0.15217391304347827\n",
            "Misclassification Error (Depth=15, MinSamplesSplit=20): 0.15217391304347827\n",
            "Misclassification Error (Depth=15, MinSamplesSplit=25): 0.16304347826086957\n",
            "Misclassification Error (Depth=15, MinSamplesSplit=30): 0.16304347826086957\n",
            "\n"
          ]
        }
      ],
      "source": [
        "max_depths = [2, 3, 5, 7, 9, 11, 13, 15]\n",
        "min_samples_splits = [2, 5, 10, 15, 20, 25, 30]\n",
        "misclassification_errors = np.zeros((len(max_depths), len(min_samples_splits)))\n",
        "\n",
        "for i, max_depth in enumerate(max_depths):\n",
        "    for j, min_samples_split in enumerate(min_samples_splits):\n",
        "        decision_tree_classifier = DecisionTreeClassifier(max_depth=max_depth, min_samples_split=min_samples_split)\n",
        "        decision_tree_classifier.fit(X_train, y_train)\n",
        "        y_pred = decision_tree_classifier.predict(X_val)\n",
        "        # cm = confusion_matrix(y_val, y_pred)\n",
        "        # plot_confusion_matrix(cm)\n",
        "        misclassification_errors[i, j] = np.mean(y_pred != y_val)\n",
        "        print(f\"Misclassification Error (Depth={max_depth}, MinSamplesSplit={min_samples_split}): {misclassification_errors[i, j]}\")\n",
        "    print(\"\")"
      ]
    },
    {
      "cell_type": "markdown",
      "metadata": {},
      "source": [
        "Getting the best hyperparameters values"
      ]
    },
    {
      "cell_type": "code",
      "execution_count": 12,
      "metadata": {},
      "outputs": [
        {
          "name": "stdout",
          "output_type": "stream",
          "text": [
            "Best Max Depth: 2\n",
            "Best Min Samples Split: 2\n",
            "Misclassification Error: 0.15760869565217392\n",
            "Accuracy: 0.842391304347826\n"
          ]
        },
        {
          "data": {
            "image/png": "[encoded data removed]",
            "text/plain": [
              "<Figure size 600x600 with 2 Axes>"
            ]
          },
          "metadata": {},
          "output_type": "display_data"
        },
        {
          "name": "stdout",
          "output_type": "stream",
          "text": [
            "F1-Score: 0.866\n"
          ]
        }
      ],
      "source": [
        "best_idx = np.unravel_index(np.argmin(misclassification_errors, axis=None), misclassification_errors.shape)\n",
        "best_max_depth = max_depths[best_idx[0]]\n",
        "best_min_samples_split = min_samples_splits[best_idx[1]]\n",
        "print(f\"Best Max Depth: {best_max_depth}\")\n",
        "print(f\"Best Min Samples Split: {best_min_samples_split}\")\n",
        "\n",
        "decision_tree_classifier = DecisionTreeClassifier(max_depth=best_max_depth, min_samples_split=best_min_samples_split)\n",
        "decision_tree_classifier.fit(X_train, y_train)\n",
        "y_pred = decision_tree_classifier.predict(X_test)\n",
        "misclassification_error = np.mean(y_pred != y_test)\n",
        "print(f\"Misclassification Error: {misclassification_error}\")\n",
        "accuracy_score = accuracy_score(y_test, y_pred)\n",
        "print(f\"Accuracy: {accuracy_score}\")\n",
        "cm = confusion_matrix(y_test, y_pred)\n",
        "plot_confusion_matrix(cm)\n",
        "f1 = f1_score(y_test, y_pred)\n",
        "print(f\"F1-Score: {f1:.3f}\")\n"
      ]
    },
    {
      "cell_type": "code",
      "execution_count": null,
      "metadata": {},
      "outputs": [],
      "source": []
    }
  ],
  "metadata": {
    "colab": {
      "provenance": []
    },
    "kernelspec": {
      "display_name": "Python 3",
      "name": "python3"
    },
    "language_info": {
      "codemirror_mode": {
        "name": "ipython",
        "version": 3
      },
      "file_extension": ".py",
      "mimetype": "text/x-python",
      "name": "python",
      "nbconvert_exporter": "python",
      "pygments_lexer": "ipython3",
      "version": "3.12.9"
    }
  },
  "nbformat": 4,
  "nbformat_minor": 0
}
