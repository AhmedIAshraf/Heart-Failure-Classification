{
 "cells": [
  {
   "cell_type": "markdown",
   "id": "f3be1512-2afb-46ff-a41f-e0f07bb5109d",
   "metadata": {},
   "source": [
    "### Importing needed libraties\n",
    "    - Numpy\n",
    "    - Matplotlib"
   ]
  },
  {
   "cell_type": "code",
   "execution_count": 74,
   "id": "d27da61f-d2f6-4933-97cd-8000f8fa8480",
   "metadata": {},
   "outputs": [],
   "source": [
    "import numpy as np\n",
    "import matplotlib.pyplot as plt\n",
    "import pandas as pd\n",
    "from sklearn.model_selection import train_test_split\n"
   ]
  },
  {
   "cell_type": "markdown",
   "id": "c09ca0ba-7190-41f3-8a16-c9095c0306c7",
   "metadata": {},
   "source": [
    "### Reading the dataset"
   ]
  },
  {
   "cell_type": "code",
   "execution_count": 99,
   "id": "03d5615a-9001-4a11-9084-619e731489ce",
   "metadata": {},
   "outputs": [
    {
     "name": "stdout",
     "output_type": "stream",
     "text": [
      "<bound method NDFrame.head of      Age Sex ChestPainType  RestingBP  Cholesterol  FastingBS RestingECG  \\\n",
      "0     40   M           ATA        140          289          0     Normal   \n",
      "1     49   F           NAP        160          180          0     Normal   \n",
      "2     37   M           ATA        130          283          0         ST   \n",
      "3     48   F           ASY        138          214          0     Normal   \n",
      "4     54   M           NAP        150          195          0     Normal   \n",
      "..   ...  ..           ...        ...          ...        ...        ...   \n",
      "913   45   M            TA        110          264          0     Normal   \n",
      "914   68   M           ASY        144          193          1     Normal   \n",
      "915   57   M           ASY        130          131          0     Normal   \n",
      "916   57   F           ATA        130          236          0        LVH   \n",
      "917   38   M           NAP        138          175          0     Normal   \n",
      "\n",
      "     MaxHR ExerciseAngina  Oldpeak ST_Slope  HeartDisease  \n",
      "0      172              N      0.0       Up             0  \n",
      "1      156              N      1.0     Flat             1  \n",
      "2       98              N      0.0       Up             0  \n",
      "3      108              Y      1.5     Flat             1  \n",
      "4      122              N      0.0       Up             0  \n",
      "..     ...            ...      ...      ...           ...  \n",
      "913    132              N      1.2     Flat             1  \n",
      "914    141              N      3.4     Flat             1  \n",
      "915    115              Y      1.2     Flat             1  \n",
      "916    174              N      0.0     Flat             1  \n",
      "917    173              N      0.0       Up             0  \n",
      "\n",
      "[918 rows x 12 columns]>\n",
      "(642, 12)\n",
      "(92, 12)\n",
      "(184, 12)\n"
     ]
    }
   ],
   "source": [
    "# Setting the random seed to 42\n",
    "fixed_seed = 42\n",
    "\n",
    "# Reading the csv file and splitting the data into 70% training, 10% validation and 20% testing \n",
    "heart_failure = pd.read_csv(\"archive/heart.csv\")\n",
    "train_val_df, test_df = train_test_split(heart_failure, test_size=0.2, random_state=fixed_seed, stratify=heart_failure['HeartDisease'])    \n",
    "train_df, validation_df = train_test_split(train_val_df, test_size=0.125, random_state=fixed_seed, stratify=train_val_df['HeartDisease'])    \n",
    "\n",
    "\n",
    "print(heart_failure.head)"
   ]
  },
  {
   "cell_type": "code",
   "execution_count": null,
   "id": "fd3b590d-74d6-4203-bcfc-1fe5b6be0118",
   "metadata": {},
   "outputs": [],
   "source": []
  }
 ],
 "metadata": {
  "kernelspec": {
   "display_name": "Python [conda env:base] *",
   "language": "python",
   "name": "conda-base-py"
  },
  "language_info": {
   "codemirror_mode": {
    "name": "ipython",
    "version": 3
   },
   "file_extension": ".py",
   "mimetype": "text/x-python",
   "name": "python",
   "nbconvert_exporter": "python",
   "pygments_lexer": "ipython3",
   "version": "3.12.7"
  }
 },
 "nbformat": 4,
 "nbformat_minor": 5
}
