{
  "cells": [
    {
      "cell_type": "markdown",
      "id": "baed3231",
      "metadata": {
        "id": "baed3231"
      },
      "source": [
        "# Heart Failure Classification Problem"
      ]
    },
    {
      "cell_type": "markdown",
      "id": "f3be1512-2afb-46ff-a41f-e0f07bb5109d",
      "metadata": {
        "id": "f3be1512-2afb-46ff-a41f-e0f07bb5109d"
      },
      "source": [
        "## 1. Tools and Libraries"
      ]
    },
    {
      "cell_type": "code",
      "execution_count": 35,
      "id": "d27da61f-d2f6-4933-97cd-8000f8fa8480",
      "metadata": {
        "id": "d27da61f-d2f6-4933-97cd-8000f8fa8480"
      },
      "outputs": [],
      "source": [
        "import numpy as np\n",
        "import pandas as pd\n",
        "import tensorflow as tf\n",
        "import matplotlib.pyplot as plt\n",
        "from tensorflow.keras.callbacks import EarlyStopping\n",
        "from tensorflow.keras import models, layers, optimizers\n",
        "from sklearn.model_selection import train_test_split\n",
        "from sklearn.metrics import accuracy_score, confusion_matrix, f1_score\n",
        "from sklearn.preprocessing import OneHotEncoder, StandardScaler\n",
        "from sklearn.neighbors import KNeighborsClassifier\n",
        "from math import log2\n",
        "\n",
        "np.random.seed(42)\n",
        "tf.random.set_seed(42)"
      ]
    },
    {
      "cell_type": "markdown",
      "id": "c09ca0ba-7190-41f3-8a16-c9095c0306c7",
      "metadata": {
        "id": "c09ca0ba-7190-41f3-8a16-c9095c0306c7"
      },
      "source": [
        "## 2. Loading and Preprocessing the Dataset"
      ]
    },
    {
      "cell_type": "markdown",
      "id": "6477f425",
      "metadata": {
        "id": "6477f425"
      },
      "source": [
        "#### 2.1 Loading Heart Failure Dataset"
      ]
    },
    {
      "cell_type": "code",
      "execution_count": 3,
      "id": "03d5615a-9001-4a11-9084-619e731489ce",
      "metadata": {
        "colab": {
          "base_uri": "https://localhost:8080/",
          "height": 300
        },
        "id": "03d5615a-9001-4a11-9084-619e731489ce",
        "outputId": "4a92464e-c9de-48a0-9d1a-e897d13787f6"
      },
      "outputs": [
        {
          "output_type": "execute_result",
          "data": {
            "text/plain": [
              "              Age   RestingBP  Cholesterol   FastingBS       MaxHR  \\\n",
              "count  918.000000  918.000000   918.000000  918.000000  918.000000   \n",
              "mean    53.510893  132.396514   198.799564    0.233115  136.809368   \n",
              "std      9.432617   18.514154   109.384145    0.423046   25.460334   \n",
              "min     28.000000    0.000000     0.000000    0.000000   60.000000   \n",
              "25%     47.000000  120.000000   173.250000    0.000000  120.000000   \n",
              "50%     54.000000  130.000000   223.000000    0.000000  138.000000   \n",
              "75%     60.000000  140.000000   267.000000    0.000000  156.000000   \n",
              "max     77.000000  200.000000   603.000000    1.000000  202.000000   \n",
              "\n",
              "          Oldpeak  HeartDisease  \n",
              "count  918.000000    918.000000  \n",
              "mean     0.887364      0.553377  \n",
              "std      1.066570      0.497414  \n",
              "min     -2.600000      0.000000  \n",
              "25%      0.000000      0.000000  \n",
              "50%      0.600000      1.000000  \n",
              "75%      1.500000      1.000000  \n",
              "max      6.200000      1.000000  "
            ],
            "text/html": [
              "\n",
              "  <div id=\"df-e078777f-980e-428c-83f3-199c59820eaf\" class=\"colab-df-container\">\n",
              "    <div>\n",
              "<style scoped>\n",
              "    .dataframe tbody tr th:only-of-type {\n",
              "        vertical-align: middle;\n",
              "    }\n",
              "\n",
              "    .dataframe tbody tr th {\n",
              "        vertical-align: top;\n",
              "    }\n",
              "\n",
              "    .dataframe thead th {\n",
              "        text-align: right;\n",
              "    }\n",
              "</style>\n",
              "<table border=\"1\" class=\"dataframe\">\n",
              "  <thead>\n",
              "    <tr style=\"text-align: right;\">\n",
              "      <th></th>\n",
              "      <th>Age</th>\n",
              "      <th>RestingBP</th>\n",
              "      <th>Cholesterol</th>\n",
              "      <th>FastingBS</th>\n",
              "      <th>MaxHR</th>\n",
              "      <th>Oldpeak</th>\n",
              "      <th>HeartDisease</th>\n",
              "    </tr>\n",
              "  </thead>\n",
              "  <tbody>\n",
              "    <tr>\n",
              "      <th>count</th>\n",
              "      <td>918.000000</td>\n",
              "      <td>918.000000</td>\n",
              "      <td>918.000000</td>\n",
              "      <td>918.000000</td>\n",
              "      <td>918.000000</td>\n",
              "      <td>918.000000</td>\n",
              "      <td>918.000000</td>\n",
              "    </tr>\n",
              "    <tr>\n",
              "      <th>mean</th>\n",
              "      <td>53.510893</td>\n",
              "      <td>132.396514</td>\n",
              "      <td>198.799564</td>\n",
              "      <td>0.233115</td>\n",
              "      <td>136.809368</td>\n",
              "      <td>0.887364</td>\n",
              "      <td>0.553377</td>\n",
              "    </tr>\n",
              "    <tr>\n",
              "      <th>std</th>\n",
              "      <td>9.432617</td>\n",
              "      <td>18.514154</td>\n",
              "      <td>109.384145</td>\n",
              "      <td>0.423046</td>\n",
              "      <td>25.460334</td>\n",
              "      <td>1.066570</td>\n",
              "      <td>0.497414</td>\n",
              "    </tr>\n",
              "    <tr>\n",
              "      <th>min</th>\n",
              "      <td>28.000000</td>\n",
              "      <td>0.000000</td>\n",
              "      <td>0.000000</td>\n",
              "      <td>0.000000</td>\n",
              "      <td>60.000000</td>\n",
              "      <td>-2.600000</td>\n",
              "      <td>0.000000</td>\n",
              "    </tr>\n",
              "    <tr>\n",
              "      <th>25%</th>\n",
              "      <td>47.000000</td>\n",
              "      <td>120.000000</td>\n",
              "      <td>173.250000</td>\n",
              "      <td>0.000000</td>\n",
              "      <td>120.000000</td>\n",
              "      <td>0.000000</td>\n",
              "      <td>0.000000</td>\n",
              "    </tr>\n",
              "    <tr>\n",
              "      <th>50%</th>\n",
              "      <td>54.000000</td>\n",
              "      <td>130.000000</td>\n",
              "      <td>223.000000</td>\n",
              "      <td>0.000000</td>\n",
              "      <td>138.000000</td>\n",
              "      <td>0.600000</td>\n",
              "      <td>1.000000</td>\n",
              "    </tr>\n",
              "    <tr>\n",
              "      <th>75%</th>\n",
              "      <td>60.000000</td>\n",
              "      <td>140.000000</td>\n",
              "      <td>267.000000</td>\n",
              "      <td>0.000000</td>\n",
              "      <td>156.000000</td>\n",
              "      <td>1.500000</td>\n",
              "      <td>1.000000</td>\n",
              "    </tr>\n",
              "    <tr>\n",
              "      <th>max</th>\n",
              "      <td>77.000000</td>\n",
              "      <td>200.000000</td>\n",
              "      <td>603.000000</td>\n",
              "      <td>1.000000</td>\n",
              "      <td>202.000000</td>\n",
              "      <td>6.200000</td>\n",
              "      <td>1.000000</td>\n",
              "    </tr>\n",
              "  </tbody>\n",
              "</table>\n",
              "</div>\n",
              "    <div class=\"colab-df-buttons\">\n",
              "\n",
              "  <div class=\"colab-df-container\">\n",
              "    <button class=\"colab-df-convert\" onclick=\"convertToInteractive('df-e078777f-980e-428c-83f3-199c59820eaf')\"\n",
              "            title=\"Convert this dataframe to an interactive table.\"\n",
              "            style=\"display:none;\">\n",
              "\n",
              "  <svg xmlns=\"http://www.w3.org/2000/svg\" height=\"24px\" viewBox=\"0 -960 960 960\">\n",
              "    <path d=\"M120-120v-720h720v720H120Zm60-500h600v-160H180v160Zm220 220h160v-160H400v160Zm0 220h160v-160H400v160ZM180-400h160v-160H180v160Zm440 0h160v-160H620v160ZM180-180h160v-160H180v160Zm440 0h160v-160H620v160Z\"/>\n",
              "  </svg>\n",
              "    </button>\n",
              "\n",
              "  <style>\n",
              "    .colab-df-container {\n",
              "      display:flex;\n",
              "      gap: 12px;\n",
              "    }\n",
              "\n",
              "    .colab-df-convert {\n",
              "      background-color: #E8F0FE;\n",
              "      border: none;\n",
              "      border-radius: 50%;\n",
              "      cursor: pointer;\n",
              "      display: none;\n",
              "      fill: #1967D2;\n",
              "      height: 32px;\n",
              "      padding: 0 0 0 0;\n",
              "      width: 32px;\n",
              "    }\n",
              "\n",
              "    .colab-df-convert:hover {\n",
              "      background-color: #E2EBFA;\n",
              "      box-shadow: 0px 1px 2px rgba(60, 64, 67, 0.3), 0px 1px 3px 1px rgba(60, 64, 67, 0.15);\n",
              "      fill: #174EA6;\n",
              "    }\n",
              "\n",
              "    .colab-df-buttons div {\n",
              "      margin-bottom: 4px;\n",
              "    }\n",
              "\n",
              "    [theme=dark] .colab-df-convert {\n",
              "      background-color: #3B4455;\n",
              "      fill: #D2E3FC;\n",
              "    }\n",
              "\n",
              "    [theme=dark] .colab-df-convert:hover {\n",
              "      background-color: #434B5C;\n",
              "      box-shadow: 0px 1px 3px 1px rgba(0, 0, 0, 0.15);\n",
              "      filter: drop-shadow(0px 1px 2px rgba(0, 0, 0, 0.3));\n",
              "      fill: #FFFFFF;\n",
              "    }\n",
              "  </style>\n",
              "\n",
              "    <script>\n",
              "      const buttonEl =\n",
              "        document.querySelector('#df-e078777f-980e-428c-83f3-199c59820eaf button.colab-df-convert');\n",
              "      buttonEl.style.display =\n",
              "        google.colab.kernel.accessAllowed ? 'block' : 'none';\n",
              "\n",
              "      async function convertToInteractive(key) {\n",
              "        const element = document.querySelector('#df-e078777f-980e-428c-83f3-199c59820eaf');\n",
              "        const dataTable =\n",
              "          await google.colab.kernel.invokeFunction('convertToInteractive',\n",
              "                                                    [key], {});\n",
              "        if (!dataTable) return;\n",
              "\n",
              "        const docLinkHtml = 'Like what you see? Visit the ' +\n",
              "          '<a target=\"_blank\" href=https://colab.research.google.com/notebooks/data_table.ipynb>data table notebook</a>'\n",
              "          + ' to learn more about interactive tables.';\n",
              "        element.innerHTML = '';\n",
              "        dataTable['output_type'] = 'display_data';\n",
              "        await google.colab.output.renderOutput(dataTable, element);\n",
              "        const docLink = document.createElement('div');\n",
              "        docLink.innerHTML = docLinkHtml;\n",
              "        element.appendChild(docLink);\n",
              "      }\n",
              "    </script>\n",
              "  </div>\n",
              "\n",
              "\n",
              "<div id=\"df-685e81ed-5065-4808-a74e-1c7b411e6f32\">\n",
              "  <button class=\"colab-df-quickchart\" onclick=\"quickchart('df-685e81ed-5065-4808-a74e-1c7b411e6f32')\"\n",
              "            title=\"Suggest charts\"\n",
              "            style=\"display:none;\">\n",
              "\n",
              "<svg xmlns=\"http://www.w3.org/2000/svg\" height=\"24px\"viewBox=\"0 0 24 24\"\n",
              "     width=\"24px\">\n",
              "    <g>\n",
              "        <path d=\"M19 3H5c-1.1 0-2 .9-2 2v14c0 1.1.9 2 2 2h14c1.1 0 2-.9 2-2V5c0-1.1-.9-2-2-2zM9 17H7v-7h2v7zm4 0h-2V7h2v10zm4 0h-2v-4h2v4z\"/>\n",
              "    </g>\n",
              "</svg>\n",
              "  </button>\n",
              "\n",
              "<style>\n",
              "  .colab-df-quickchart {\n",
              "      --bg-color: #E8F0FE;\n",
              "      --fill-color: #1967D2;\n",
              "      --hover-bg-color: #E2EBFA;\n",
              "      --hover-fill-color: #174EA6;\n",
              "      --disabled-fill-color: #AAA;\n",
              "      --disabled-bg-color: #DDD;\n",
              "  }\n",
              "\n",
              "  [theme=dark] .colab-df-quickchart {\n",
              "      --bg-color: #3B4455;\n",
              "      --fill-color: #D2E3FC;\n",
              "      --hover-bg-color: #434B5C;\n",
              "      --hover-fill-color: #FFFFFF;\n",
              "      --disabled-bg-color: #3B4455;\n",
              "      --disabled-fill-color: #666;\n",
              "  }\n",
              "\n",
              "  .colab-df-quickchart {\n",
              "    background-color: var(--bg-color);\n",
              "    border: none;\n",
              "    border-radius: 50%;\n",
              "    cursor: pointer;\n",
              "    display: none;\n",
              "    fill: var(--fill-color);\n",
              "    height: 32px;\n",
              "    padding: 0;\n",
              "    width: 32px;\n",
              "  }\n",
              "\n",
              "  .colab-df-quickchart:hover {\n",
              "    background-color: var(--hover-bg-color);\n",
              "    box-shadow: 0 1px 2px rgba(60, 64, 67, 0.3), 0 1px 3px 1px rgba(60, 64, 67, 0.15);\n",
              "    fill: var(--button-hover-fill-color);\n",
              "  }\n",
              "\n",
              "  .colab-df-quickchart-complete:disabled,\n",
              "  .colab-df-quickchart-complete:disabled:hover {\n",
              "    background-color: var(--disabled-bg-color);\n",
              "    fill: var(--disabled-fill-color);\n",
              "    box-shadow: none;\n",
              "  }\n",
              "\n",
              "  .colab-df-spinner {\n",
              "    border: 2px solid var(--fill-color);\n",
              "    border-color: transparent;\n",
              "    border-bottom-color: var(--fill-color);\n",
              "    animation:\n",
              "      spin 1s steps(1) infinite;\n",
              "  }\n",
              "\n",
              "  @keyframes spin {\n",
              "    0% {\n",
              "      border-color: transparent;\n",
              "      border-bottom-color: var(--fill-color);\n",
              "      border-left-color: var(--fill-color);\n",
              "    }\n",
              "    20% {\n",
              "      border-color: transparent;\n",
              "      border-left-color: var(--fill-color);\n",
              "      border-top-color: var(--fill-color);\n",
              "    }\n",
              "    30% {\n",
              "      border-color: transparent;\n",
              "      border-left-color: var(--fill-color);\n",
              "      border-top-color: var(--fill-color);\n",
              "      border-right-color: var(--fill-color);\n",
              "    }\n",
              "    40% {\n",
              "      border-color: transparent;\n",
              "      border-right-color: var(--fill-color);\n",
              "      border-top-color: var(--fill-color);\n",
              "    }\n",
              "    60% {\n",
              "      border-color: transparent;\n",
              "      border-right-color: var(--fill-color);\n",
              "    }\n",
              "    80% {\n",
              "      border-color: transparent;\n",
              "      border-right-color: var(--fill-color);\n",
              "      border-bottom-color: var(--fill-color);\n",
              "    }\n",
              "    90% {\n",
              "      border-color: transparent;\n",
              "      border-bottom-color: var(--fill-color);\n",
              "    }\n",
              "  }\n",
              "</style>\n",
              "\n",
              "  <script>\n",
              "    async function quickchart(key) {\n",
              "      const quickchartButtonEl =\n",
              "        document.querySelector('#' + key + ' button');\n",
              "      quickchartButtonEl.disabled = true;  // To prevent multiple clicks.\n",
              "      quickchartButtonEl.classList.add('colab-df-spinner');\n",
              "      try {\n",
              "        const charts = await google.colab.kernel.invokeFunction(\n",
              "            'suggestCharts', [key], {});\n",
              "      } catch (error) {\n",
              "        console.error('Error during call to suggestCharts:', error);\n",
              "      }\n",
              "      quickchartButtonEl.classList.remove('colab-df-spinner');\n",
              "      quickchartButtonEl.classList.add('colab-df-quickchart-complete');\n",
              "    }\n",
              "    (() => {\n",
              "      let quickchartButtonEl =\n",
              "        document.querySelector('#df-685e81ed-5065-4808-a74e-1c7b411e6f32 button');\n",
              "      quickchartButtonEl.style.display =\n",
              "        google.colab.kernel.accessAllowed ? 'block' : 'none';\n",
              "    })();\n",
              "  </script>\n",
              "</div>\n",
              "\n",
              "    </div>\n",
              "  </div>\n"
            ],
            "application/vnd.google.colaboratory.intrinsic+json": {
              "type": "dataframe",
              "summary": "{\n  \"name\": \"heart_df\",\n  \"rows\": 8,\n  \"fields\": [\n    {\n      \"column\": \"Age\",\n      \"properties\": {\n        \"dtype\": \"number\",\n        \"std\": 308.627347039806,\n        \"min\": 9.432616506732007,\n        \"max\": 918.0,\n        \"num_unique_values\": 8,\n        \"samples\": [\n          53.510893246187365,\n          54.0,\n          918.0\n        ],\n        \"semantic_type\": \"\",\n        \"description\": \"\"\n      }\n    },\n    {\n      \"column\": \"RestingBP\",\n      \"properties\": {\n        \"dtype\": \"number\",\n        \"std\": 294.5935541913639,\n        \"min\": 0.0,\n        \"max\": 918.0,\n        \"num_unique_values\": 8,\n        \"samples\": [\n          132.39651416122004,\n          130.0,\n          918.0\n        ],\n        \"semantic_type\": \"\",\n        \"description\": \"\"\n      }\n    },\n    {\n      \"column\": \"Cholesterol\",\n      \"properties\": {\n        \"dtype\": \"number\",\n        \"std\": 300.55294190735805,\n        \"min\": 0.0,\n        \"max\": 918.0,\n        \"num_unique_values\": 8,\n        \"samples\": [\n          198.7995642701525,\n          223.0,\n          918.0\n        ],\n        \"semantic_type\": \"\",\n        \"description\": \"\"\n      }\n    },\n    {\n      \"column\": \"FastingBS\",\n      \"properties\": {\n        \"dtype\": \"number\",\n        \"std\": 324.4785490336432,\n        \"min\": 0.0,\n        \"max\": 918.0,\n        \"num_unique_values\": 5,\n        \"samples\": [\n          0.23311546840958605,\n          1.0,\n          0.423045624739302\n        ],\n        \"semantic_type\": \"\",\n        \"description\": \"\"\n      }\n    },\n    {\n      \"column\": \"MaxHR\",\n      \"properties\": {\n        \"dtype\": \"number\",\n        \"std\": 287.52953225319146,\n        \"min\": 25.460334138250293,\n        \"max\": 918.0,\n        \"num_unique_values\": 8,\n        \"samples\": [\n          136.80936819172112,\n          138.0,\n          918.0\n        ],\n        \"semantic_type\": \"\",\n        \"description\": \"\"\n      }\n    },\n    {\n      \"column\": \"Oldpeak\",\n      \"properties\": {\n        \"dtype\": \"number\",\n        \"std\": 324.18454495166225,\n        \"min\": -2.6,\n        \"max\": 918.0,\n        \"num_unique_values\": 8,\n        \"samples\": [\n          0.8873638344226579,\n          0.6,\n          918.0\n        ],\n        \"semantic_type\": \"\",\n        \"description\": \"\"\n      }\n    },\n    {\n      \"column\": \"HeartDisease\",\n      \"properties\": {\n        \"dtype\": \"number\",\n        \"std\": 324.35768309524013,\n        \"min\": 0.0,\n        \"max\": 918.0,\n        \"num_unique_values\": 5,\n        \"samples\": [\n          0.5533769063180828,\n          1.0,\n          0.4974137382845986\n        ],\n        \"semantic_type\": \"\",\n        \"description\": \"\"\n      }\n    }\n  ]\n}"
            }
          },
          "metadata": {},
          "execution_count": 3
        }
      ],
      "source": [
        "# Load the dataset\n",
        "heart_df = pd.read_csv('heart.csv')\n",
        "heart_df.describe()"
      ]
    },
    {
      "cell_type": "code",
      "execution_count": 4,
      "id": "c1a8527c",
      "metadata": {
        "colab": {
          "base_uri": "https://localhost:8080/"
        },
        "id": "c1a8527c",
        "outputId": "b6c9e238-c98a-435f-a44e-33ffd8a39f3a"
      },
      "outputs": [
        {
          "output_type": "stream",
          "name": "stdout",
          "text": [
            "<class 'pandas.core.frame.DataFrame'>\n",
            "RangeIndex: 918 entries, 0 to 917\n",
            "Data columns (total 12 columns):\n",
            " #   Column          Non-Null Count  Dtype  \n",
            "---  ------          --------------  -----  \n",
            " 0   Age             918 non-null    int64  \n",
            " 1   Sex             918 non-null    object \n",
            " 2   ChestPainType   918 non-null    object \n",
            " 3   RestingBP       918 non-null    int64  \n",
            " 4   Cholesterol     918 non-null    int64  \n",
            " 5   FastingBS       918 non-null    int64  \n",
            " 6   RestingECG      918 non-null    object \n",
            " 7   MaxHR           918 non-null    int64  \n",
            " 8   ExerciseAngina  918 non-null    object \n",
            " 9   Oldpeak         918 non-null    float64\n",
            " 10  ST_Slope        918 non-null    object \n",
            " 11  HeartDisease    918 non-null    int64  \n",
            "dtypes: float64(1), int64(6), object(5)\n",
            "memory usage: 86.2+ KB\n"
          ]
        }
      ],
      "source": [
        "heart_df.info()"
      ]
    },
    {
      "cell_type": "markdown",
      "id": "7bfb3138",
      "metadata": {
        "id": "7bfb3138"
      },
      "source": [
        "#### 2.2 Encoding Categorical Features"
      ]
    },
    {
      "cell_type": "code",
      "execution_count": 5,
      "id": "6527988e",
      "metadata": {
        "id": "6527988e"
      },
      "outputs": [],
      "source": [
        "# Encode categorical features using One-Hot Encoding\n",
        "categorical_features = ['Sex', 'ChestPainType', 'RestingECG', 'ExerciseAngina', 'ST_Slope']\n",
        "\n",
        "encoder = OneHotEncoder(drop='first', sparse_output=False)\n",
        "encoded_features = encoder.fit_transform(heart_df[categorical_features])\n",
        "\n",
        "encoded_df = pd.DataFrame(encoded_features, columns=encoder.get_feature_names_out(categorical_features))\n",
        "modified_df = pd.concat([heart_df.drop(categorical_features, axis=1), encoded_df], axis=1)"
      ]
    },
    {
      "cell_type": "markdown",
      "id": "09c0cec0",
      "metadata": {
        "id": "09c0cec0"
      },
      "source": [
        "#### 2.3 Splitting Data to Training, Validation and Test Sets"
      ]
    },
    {
      "cell_type": "code",
      "execution_count": 6,
      "id": "e9ae8bdd",
      "metadata": {
        "colab": {
          "base_uri": "https://localhost:8080/"
        },
        "id": "e9ae8bdd",
        "outputId": "bf61355a-f5b2-47f1-dd2f-1e77e154b5ec"
      },
      "outputs": [
        {
          "output_type": "stream",
          "name": "stdout",
          "text": [
            "0.5529595015576324\n",
            "0.5543478260869565\n",
            "0.5543478260869565\n",
            "(642, 15)\n",
            "(92, 15)\n",
            "(184, 15)\n"
          ]
        }
      ],
      "source": [
        "# Split the dataset into training, validation, and test sets\n",
        "X = modified_df.drop('HeartDisease', axis=1)\n",
        "y = modified_df['HeartDisease']\n",
        "\n",
        "# Split the dataset into training, validation (80%) and test (20%) sets, maintaining class distribution\n",
        "X_temp, X_test, y_temp, y_test = train_test_split(X, y, test_size=0.2, random_state=42, stratify=y)\n",
        "\n",
        "# Split the training set into training (70%) and validation (10%) sets, maintaining class distribution\n",
        "X_train, X_val, y_train, y_val = train_test_split(X_temp, y_temp, test_size=0.125, random_state=42, stratify=y_temp)\n",
        "\n",
        "# Convert to NumPy arrays\n",
        "X_train = X_train.to_numpy()\n",
        "X_val = X_val.to_numpy()\n",
        "X_test = X_test.to_numpy()\n",
        "y_train = y_train.to_numpy()\n",
        "y_val = y_val.to_numpy()\n",
        "y_test = y_test.to_numpy()\n",
        "\n",
        "print(np.sum(y_train == 1) / len(y_train))\n",
        "print(np.sum(y_val == 1) / len(y_val))\n",
        "print(np.sum(y_test == 1) / len(y_test))\n",
        "\n",
        "print(X_train.shape)\n",
        "print(X_val.shape)\n",
        "print(X_test.shape)"
      ]
    },
    {
      "cell_type": "markdown",
      "id": "614e0d70",
      "metadata": {
        "id": "614e0d70"
      },
      "source": [
        "#### 2.4 Standardizing Features"
      ]
    },
    {
      "cell_type": "code",
      "execution_count": 7,
      "id": "70164cca",
      "metadata": {
        "id": "70164cca"
      },
      "outputs": [],
      "source": [
        "# Scaling the features\n",
        "scaler = StandardScaler()\n",
        "X_train_scaled = scaler.fit_transform(X_train)\n",
        "X_val_scaled = scaler.transform(X_val)\n",
        "X_test_scaled = scaler.transform(X_test)"
      ]
    },
    {
      "cell_type": "markdown",
      "id": "6e6793a8",
      "metadata": {
        "id": "6e6793a8"
      },
      "source": [
        "# 3. Implementations"
      ]
    },
    {
      "cell_type": "markdown",
      "id": "9b8dbc6d",
      "metadata": {
        "id": "9b8dbc6d"
      },
      "source": [
        "## 3.1 Decision Tree Classifier Implementaion"
      ]
    },
    {
      "cell_type": "markdown",
      "id": "a3a9e9bc",
      "metadata": {
        "id": "a3a9e9bc"
      },
      "source": [
        "### Tree Node Class\n",
        "The `Node` class represents a single node in a decision tree structure. It is used to store information about a decision point (for internal nodes) or a predicted value (for leaf nodes)."
      ]
    },
    {
      "cell_type": "code",
      "execution_count": 8,
      "id": "7c61dd80",
      "metadata": {
        "id": "7c61dd80"
      },
      "outputs": [],
      "source": [
        "class Node:\n",
        "  def __init__(self, left=None, right=None, info_gain=None, feature_index=None, threshold=None, value=None):\n",
        "    self.left = left\n",
        "    self.right = right\n",
        "    self.info_gain = info_gain  # Information gain of split\n",
        "    self.feature_index = feature_index  # Index of feature to split on\n",
        "    self.threshold = threshold  # Threshold value to split on\n",
        "    self.value = value  # Predicted value if node is leaf"
      ]
    },
    {
      "cell_type": "markdown",
      "id": "a76298d5",
      "metadata": {
        "id": "a76298d5"
      },
      "source": [
        "### Decision Tree Classifier Class\n",
        "The `DecisionTreeClassifier` class implements a basic decision tree classifier. It recursively splits the feature space based on information gain, building a binary tree structure to classify data points."
      ]
    },
    {
      "cell_type": "code",
      "execution_count": 11,
      "id": "5cc95340",
      "metadata": {
        "id": "5cc95340"
      },
      "outputs": [],
      "source": [
        "class DecisionTreeClassifier:\n",
        "    def __init__(self, max_depth=7, min_samples_split=10):\n",
        "        \"\"\"Initialize the decision tree with hyperparameters.\"\"\"\n",
        "        self.max_depth = max_depth  # Maximum depth of the tree\n",
        "        self.min_samples_split = min_samples_split  # Minimum samples required to split a node\n",
        "        self.root = None  # Root node of the tree, starts as None\n",
        "        self.feature_index = None\n",
        "        self.threshold = None\n",
        "        self.sample_weight = None\n",
        "\n",
        "    def fit(self, X, y, sample_weight = None):\n",
        "        \"\"\"Train the decision tree using the input features X and target y.\"\"\"\n",
        "        if sample_weight is None:\n",
        "          self.root = self.build_tree(X, y)  # Build the tree and set the root\n",
        "        else:\n",
        "          self.sample_weight = sample_weight #for adaBoost decision stump\n",
        "          N, d = X.shape\n",
        "          min_error = float('inf')\n",
        "\n",
        "          for feature_index in range(d):\n",
        "              # Get possible thresholds for this feature\n",
        "              feature_values = X[:, feature_index]\n",
        "              thresholds = np.unique(feature_values)\n",
        "\n",
        "              for threshold in thresholds:\n",
        "                  # Predict using the rule: <= threshold -> -1, else +1\n",
        "                  predictions = np.where(feature_values <= threshold, -1, 1)\n",
        "\n",
        "                  # Compute weighted misclassification error\n",
        "                  misclassified = (predictions != y).astype(float)\n",
        "                  weighted_error = np.sum(sample_weight * misclassified)\n",
        "\n",
        "                  # Keep track of the best (lowest error) threshold\n",
        "                  if weighted_error < min_error:\n",
        "                      min_error = weighted_error\n",
        "                      self.feature_index = feature_index\n",
        "                      self.threshold = threshold\n",
        "\n",
        "    def predict(self, X):\n",
        "        \"\"\"Make predictions for each sample in X.\"\"\"\n",
        "        if self.sample_weight is None:\n",
        "          if self.root is None:\n",
        "              raise ValueError(\"Model has not been trained. Please call 'fit' method first.\")\n",
        "          # Return predictions by traversing the tree for each sample\n",
        "          return [self.make_prediction(x, self.root) for x in X]\n",
        "        else:\n",
        "          feature_values = X[:, self.feature_index]\n",
        "          # Apply the rule: <= threshold -> -1, else +1\n",
        "          return np.where(feature_values <= self.threshold, -1, 1)\n",
        "\n",
        "    def make_prediction(self, x, node):\n",
        "        \"\"\"Recursively traverse the tree to make a prediction for a single sample.\"\"\"\n",
        "        if node.value is not None:  # Leaf node reached\n",
        "            return node.value\n",
        "        # Decide which subtree to follow based on the feature value\n",
        "        if x[node.feature_index] <= node.threshold:\n",
        "            return self.make_prediction(x, node.left)\n",
        "        else:\n",
        "            return self.make_prediction(x, node.right)\n",
        "\n",
        "    def print_tree(self, feature_names):\n",
        "        \"\"\"Print the structure of the decision tree.\"\"\"\n",
        "        self.print_tree_helper(self.root, 0, feature_names)  # Start from the root with depth 0\n",
        "\n",
        "    def print_tree_helper(self, node, depth, feature_names):\n",
        "        \"\"\"Helper method to recursively print the tree with indentation.\"\"\"\n",
        "        if node is None:\n",
        "            return\n",
        "        indent = \" \" * depth  # Indentation for visual hierarchy\n",
        "        if node.value is not None:  # Leaf node\n",
        "            print(f\"{indent}Predict: {node.value}\")\n",
        "        else:  # Internal node\n",
        "            print(f\"{indent}{feature_names[node.feature_index]} <= {node.threshold} -> True:\")\n",
        "            self.print_tree_helper(node.left, depth + 1, feature_names)\n",
        "            print(f\"{indent}{feature_names[node.feature_index]} > {node.threshold} -> False:\")\n",
        "            self.print_tree_helper(node.right, depth + 1, feature_names)\n",
        "\n",
        "    def build_tree(self, X, y, depth=0):\n",
        "        \"\"\"Recursively build the decision tree.\"\"\"\n",
        "        m, n = X.shape  # Number of samples (m) and features (n)\n",
        "        is_pure = len(np.unique(y)) == 1  # Check if all labels are the same\n",
        "\n",
        "        # Base case: stop if max depth reached, data is pure, or too few samples\n",
        "        if depth >= self.max_depth or is_pure or m < self.min_samples_split:\n",
        "            majority_class = self.compute_output(y)  # Assign majority class to leaf\n",
        "            return Node(value=majority_class)\n",
        "\n",
        "        # Find the best split and recursively build left and right subtrees\n",
        "        best_split = self.get_best_split(X, y)\n",
        "        left_indices = best_split['left']\n",
        "        right_indices = best_split['right']\n",
        "        left_subtree = self.build_tree(X[left_indices, :], y[left_indices], depth + 1)\n",
        "        right_subtree = self.build_tree(X[right_indices, :], y[right_indices], depth + 1)\n",
        "\n",
        "        # Return a node with the split details and subtrees\n",
        "        return Node(left=left_subtree,\n",
        "                    right=right_subtree,\n",
        "                    info_gain=best_split['info_gain'],\n",
        "                    feature_index=best_split['feature_index'],\n",
        "                    threshold=best_split['threshold'])\n",
        "\n",
        "    def get_best_split(self, X, y):\n",
        "        \"\"\"Find the best feature and threshold to split the data.\"\"\"\n",
        "        _, n = X.shape\n",
        "        best_split = {\n",
        "            'info_gain': float('-inf'),\n",
        "            'threshold': None,\n",
        "            'feature_index': None,\n",
        "            'left': None,\n",
        "            'right': None\n",
        "        }\n",
        "\n",
        "        # Iterate over all features and their unique values as potential thresholds\n",
        "        for feature_index in range(n):\n",
        "            feature_values = X[:, feature_index]\n",
        "            possible_thresholds = np.unique(feature_values)\n",
        "            for threshold in possible_thresholds:\n",
        "                # Split data based on the threshold\n",
        "                left_indices = X[:, feature_index] <= threshold\n",
        "                right_indices = X[:, feature_index] > threshold\n",
        "                left_y = y[left_indices]\n",
        "                right_y = y[right_indices]\n",
        "\n",
        "                if len(left_y) == 0 or len(right_y) == 0:\n",
        "                    continue\n",
        "\n",
        "                # Calculate information gain for this split\n",
        "                split_info_gain = self.compute_information_gain(y, left_y, right_y)\n",
        "\n",
        "                # Update best split if this one is better\n",
        "                if split_info_gain > best_split['info_gain']:\n",
        "                    best_split['info_gain'] = split_info_gain\n",
        "                    best_split['feature_index'] = feature_index\n",
        "                    best_split['threshold'] = threshold\n",
        "                    best_split['left'] = left_indices\n",
        "                    best_split['right'] = right_indices\n",
        "\n",
        "        return best_split\n",
        "\n",
        "    def compute_output(self, y):\n",
        "        \"\"\"Compute the majority class for a leaf node.\"\"\"\n",
        "        unique_classes, frequency = np.unique(y, return_counts=True)\n",
        "        majority_class = unique_classes[np.argmax(frequency)]  # Most frequent class\n",
        "        # majority_count = frequency.max()\n",
        "        # print(f\"\\nMajority Class: {majority_class} (Count: {majority_count})\")\n",
        "        return int(majority_class)\n",
        "\n",
        "    def compute_entropy(self, y):\n",
        "        \"\"\"Calculate the entropy of a set of labels.\"\"\"\n",
        "        unique_classes, frequencies = np.unique(y, return_counts=True)\n",
        "        n_classes = len(y)\n",
        "        entropy = 0\n",
        "        for frequency in frequencies:\n",
        "            probability = frequency / n_classes\n",
        "            entropy -= probability * log2(probability) if probability > 0 else 0\n",
        "        return entropy\n",
        "\n",
        "    def compute_information_gain(self, y, left_y, right_y):\n",
        "        \"\"\"Calculate information gain from a split.\"\"\"\n",
        "        m = len(y)\n",
        "        left_m = len(left_y)\n",
        "        right_m = len(right_y)\n",
        "\n",
        "        # Entropy before and after the split\n",
        "        parent_entropy = self.compute_entropy(y)\n",
        "        left_entropy = self.compute_entropy(left_y) if left_m > 0 else 0\n",
        "        right_entropy = self.compute_entropy(right_y) if right_m > 0 else 0\n",
        "\n",
        "        # Weighted average of child entropies\n",
        "        weighted_entropy = (left_m / m) * left_entropy + (right_m / m) * right_entropy\n",
        "        information_gain = parent_entropy - weighted_entropy\n",
        "        return information_gain"
      ]
    },
    {
      "cell_type": "markdown",
      "id": "cd55e8de",
      "metadata": {
        "id": "cd55e8de"
      },
      "source": [
        "### Training the Decision Tree Classifier"
      ]
    },
    {
      "cell_type": "code",
      "execution_count": 12,
      "id": "770784ee",
      "metadata": {
        "id": "770784ee"
      },
      "outputs": [],
      "source": [
        "# Initialize and train the Decision Tree Classifier\n",
        "decision_tree_classifier = DecisionTreeClassifier()\n",
        "decision_tree_classifier.fit(X_train, y_train)"
      ]
    },
    {
      "cell_type": "markdown",
      "id": "d406e312",
      "metadata": {
        "id": "d406e312"
      },
      "source": [
        "### Hyperparameters Tuning"
      ]
    },
    {
      "cell_type": "code",
      "execution_count": 13,
      "id": "1126df11",
      "metadata": {
        "id": "1126df11"
      },
      "outputs": [],
      "source": [
        "def plot_confusion_matrix(cm):\n",
        "    \"\"\"Plot the confusion matrix.\"\"\"\n",
        "    plt.figure(figsize=(6, 6))\n",
        "    plt.imshow(cm, cmap='Blues', interpolation='nearest')\n",
        "    plt.title('Confusion Matrix')\n",
        "    plt.colorbar(label='Count')\n",
        "    plt.xticks([0, 1], ['Predicted 0', 'Predicted 1'])\n",
        "    plt.yticks([0, 1], ['True 0', 'True 1'])\n",
        "    for i in range(2):\n",
        "        for j in range(2):\n",
        "            plt.text(j, i, cm[i, j], ha='center', va='center', color='black')\n",
        "    plt.xlabel('Predicted')\n",
        "    plt.ylabel('True')\n",
        "    plt.show()"
      ]
    },
    {
      "cell_type": "code",
      "execution_count": 14,
      "id": "571d157a",
      "metadata": {
        "colab": {
          "base_uri": "https://localhost:8080/"
        },
        "collapsed": true,
        "id": "571d157a",
        "outputId": "24cba682-5bc9-4778-bcd7-7f005959c5d9"
      },
      "outputs": [
        {
          "output_type": "stream",
          "name": "stdout",
          "text": [
            "Misclassification Rate (Depth=2, MinSamplesSplit=2): 0.20652173913043478\n",
            "Misclassification Rate (Depth=2, MinSamplesSplit=5): 0.20652173913043478\n",
            "Misclassification Rate (Depth=2, MinSamplesSplit=10): 0.20652173913043478\n",
            "Misclassification Rate (Depth=2, MinSamplesSplit=15): 0.20652173913043478\n",
            "Misclassification Rate (Depth=2, MinSamplesSplit=20): 0.20652173913043478\n",
            "Misclassification Rate (Depth=2, MinSamplesSplit=25): 0.20652173913043478\n",
            "Misclassification Rate (Depth=2, MinSamplesSplit=30): 0.20652173913043478\n",
            "\n",
            "Misclassification Rate (Depth=3, MinSamplesSplit=2): 0.18478260869565216\n",
            "Misclassification Rate (Depth=3, MinSamplesSplit=5): 0.18478260869565216\n",
            "Misclassification Rate (Depth=3, MinSamplesSplit=10): 0.18478260869565216\n",
            "Misclassification Rate (Depth=3, MinSamplesSplit=15): 0.18478260869565216\n",
            "Misclassification Rate (Depth=3, MinSamplesSplit=20): 0.18478260869565216\n",
            "Misclassification Rate (Depth=3, MinSamplesSplit=25): 0.18478260869565216\n",
            "Misclassification Rate (Depth=3, MinSamplesSplit=30): 0.18478260869565216\n",
            "\n",
            "Misclassification Rate (Depth=5, MinSamplesSplit=2): 0.20652173913043478\n",
            "Misclassification Rate (Depth=5, MinSamplesSplit=5): 0.20652173913043478\n",
            "Misclassification Rate (Depth=5, MinSamplesSplit=10): 0.20652173913043478\n",
            "Misclassification Rate (Depth=5, MinSamplesSplit=15): 0.20652173913043478\n",
            "Misclassification Rate (Depth=5, MinSamplesSplit=20): 0.20652173913043478\n",
            "Misclassification Rate (Depth=5, MinSamplesSplit=25): 0.20652173913043478\n",
            "Misclassification Rate (Depth=5, MinSamplesSplit=30): 0.20652173913043478\n",
            "\n",
            "Misclassification Rate (Depth=7, MinSamplesSplit=2): 0.21739130434782608\n",
            "Misclassification Rate (Depth=7, MinSamplesSplit=5): 0.21739130434782608\n",
            "Misclassification Rate (Depth=7, MinSamplesSplit=10): 0.21739130434782608\n",
            "Misclassification Rate (Depth=7, MinSamplesSplit=15): 0.21739130434782608\n",
            "Misclassification Rate (Depth=7, MinSamplesSplit=20): 0.2391304347826087\n",
            "Misclassification Rate (Depth=7, MinSamplesSplit=25): 0.22826086956521738\n",
            "Misclassification Rate (Depth=7, MinSamplesSplit=30): 0.22826086956521738\n",
            "\n",
            "Misclassification Rate (Depth=9, MinSamplesSplit=2): 0.21739130434782608\n",
            "Misclassification Rate (Depth=9, MinSamplesSplit=5): 0.20652173913043478\n",
            "Misclassification Rate (Depth=9, MinSamplesSplit=10): 0.21739130434782608\n",
            "Misclassification Rate (Depth=9, MinSamplesSplit=15): 0.20652173913043478\n",
            "Misclassification Rate (Depth=9, MinSamplesSplit=20): 0.22826086956521738\n",
            "Misclassification Rate (Depth=9, MinSamplesSplit=25): 0.21739130434782608\n",
            "Misclassification Rate (Depth=9, MinSamplesSplit=30): 0.21739130434782608\n",
            "\n",
            "Misclassification Rate (Depth=11, MinSamplesSplit=2): 0.22826086956521738\n",
            "Misclassification Rate (Depth=11, MinSamplesSplit=5): 0.21739130434782608\n",
            "Misclassification Rate (Depth=11, MinSamplesSplit=10): 0.21739130434782608\n",
            "Misclassification Rate (Depth=11, MinSamplesSplit=15): 0.20652173913043478\n",
            "Misclassification Rate (Depth=11, MinSamplesSplit=20): 0.22826086956521738\n",
            "Misclassification Rate (Depth=11, MinSamplesSplit=25): 0.21739130434782608\n",
            "Misclassification Rate (Depth=11, MinSamplesSplit=30): 0.21739130434782608\n",
            "\n",
            "Misclassification Rate (Depth=13, MinSamplesSplit=2): 0.22826086956521738\n",
            "Misclassification Rate (Depth=13, MinSamplesSplit=5): 0.21739130434782608\n",
            "Misclassification Rate (Depth=13, MinSamplesSplit=10): 0.21739130434782608\n",
            "Misclassification Rate (Depth=13, MinSamplesSplit=15): 0.20652173913043478\n",
            "Misclassification Rate (Depth=13, MinSamplesSplit=20): 0.22826086956521738\n",
            "Misclassification Rate (Depth=13, MinSamplesSplit=25): 0.21739130434782608\n",
            "Misclassification Rate (Depth=13, MinSamplesSplit=30): 0.21739130434782608\n",
            "\n",
            "Misclassification Rate (Depth=15, MinSamplesSplit=2): 0.22826086956521738\n",
            "Misclassification Rate (Depth=15, MinSamplesSplit=5): 0.21739130434782608\n",
            "Misclassification Rate (Depth=15, MinSamplesSplit=10): 0.21739130434782608\n",
            "Misclassification Rate (Depth=15, MinSamplesSplit=15): 0.20652173913043478\n",
            "Misclassification Rate (Depth=15, MinSamplesSplit=20): 0.22826086956521738\n",
            "Misclassification Rate (Depth=15, MinSamplesSplit=25): 0.21739130434782608\n",
            "Misclassification Rate (Depth=15, MinSamplesSplit=30): 0.21739130434782608\n",
            "\n"
          ]
        }
      ],
      "source": [
        "# Tune hyperparameters\n",
        "max_depth_values = [2, 3, 5, 7, 9, 11, 13, 15]\n",
        "min_samples_split_values = [2, 5, 10, 15, 20, 25, 30]\n",
        "misclassification_rates = np.zeros((len(max_depth_values), len(min_samples_split_values)))\n",
        "\n",
        "for i, max_depth in enumerate(max_depth_values):\n",
        "    for j, min_samples_split in enumerate(min_samples_split_values):\n",
        "        decision_tree_classifier = DecisionTreeClassifier(max_depth=max_depth, min_samples_split=min_samples_split)\n",
        "        decision_tree_classifier.fit(X_train, y_train)\n",
        "        y_pred = decision_tree_classifier.predict(X_val)\n",
        "        # cm = confusion_matrix(y_val, y_pred)\n",
        "        # plot_confusion_matrix(cm)\n",
        "        misclassification_rates[i, j] = np.mean(y_pred != y_val)\n",
        "        print(f\"Misclassification Rate (Depth={max_depth}, MinSamplesSplit={min_samples_split}): {misclassification_rates[i, j]}\")\n",
        "    print(\"\")"
      ]
    },
    {
      "cell_type": "markdown",
      "id": "e6f98990",
      "metadata": {
        "id": "e6f98990"
      },
      "source": [
        "### Training the Final Model with Optimal Hyperparameters"
      ]
    },
    {
      "cell_type": "code",
      "execution_count": 15,
      "id": "45932a56",
      "metadata": {
        "colab": {
          "base_uri": "https://localhost:8080/",
          "height": 967
        },
        "id": "45932a56",
        "outputId": "63b2c979-cd35-4f05-bba0-232884366bb5"
      },
      "outputs": [
        {
          "output_type": "stream",
          "name": "stdout",
          "text": [
            "Best Max Depth: 3\n",
            "Best Min Samples Split: 2\n",
            "Misclassification Rate: 0.24456521739130435\n",
            "Accuracy: 0.7554347826086957\n",
            "F1-Score: 0.789\n"
          ]
        },
        {
          "output_type": "display_data",
          "data": {
            "text/plain": [
              "<Figure size 600x600 with 2 Axes>"
            ],
            "image/png": "[encoded data removed]"
          },
          "metadata": {}
        },
        {
          "output_type": "stream",
          "name": "stdout",
          "text": [
            "ST_Slope_Up <= 0.0 -> True:\n",
            " MaxHR <= 142.0 -> True:\n",
            "  Sex_M <= 0.0 -> True:\n",
            "   Predict: 1\n",
            "  Sex_M > 0.0 -> False:\n",
            "   Predict: 1\n",
            " MaxHR > 142.0 -> False:\n",
            "  Cholesterol <= 190.0 -> True:\n",
            "   Predict: 1\n",
            "  Cholesterol > 190.0 -> False:\n",
            "   Predict: 1\n",
            "ST_Slope_Up > 0.0 -> False:\n",
            " Oldpeak <= 0.4 -> True:\n",
            "  Age <= 55.0 -> True:\n",
            "   Predict: 0\n",
            "  Age > 55.0 -> False:\n",
            "   Predict: 0\n",
            " Oldpeak > 0.4 -> False:\n",
            "  MaxHR <= 132.0 -> True:\n",
            "   Predict: 1\n",
            "  MaxHR > 132.0 -> False:\n",
            "   Predict: 0\n"
          ]
        }
      ],
      "source": [
        "# Find the best hyperparameters\n",
        "best_idx = np.unravel_index(np.argmin(misclassification_rates, axis=None), misclassification_rates.shape)\n",
        "best_max_depth = max_depth_values[best_idx[0]]\n",
        "best_min_samples_split = min_samples_split_values[best_idx[1]]\n",
        "print(f\"Best Max Depth: {best_max_depth}\")\n",
        "print(f\"Best Min Samples Split: {best_min_samples_split}\")\n",
        "\n",
        "# Intialize and train the Decision Tree Classifier with the best hyperparameters\n",
        "decision_tree_classifier = DecisionTreeClassifier(max_depth=best_max_depth, min_samples_split=best_min_samples_split)\n",
        "decision_tree_classifier.fit(X_train, y_train)\n",
        "\n",
        "# Make predictions and evaluate the model on the test set\n",
        "y_pred = decision_tree_classifier.predict(X_test)\n",
        "\n",
        "# Calculate the misclassification rate, accuracy, F1-score, and confusion matrix\n",
        "misclassification_rate = np.mean(y_pred != y_test)\n",
        "print(f\"Misclassification Rate: {misclassification_rate}\")\n",
        "\n",
        "accuracy = accuracy_score(y_test, y_pred)\n",
        "print(f\"Accuracy: {accuracy}\")\n",
        "\n",
        "f1 = f1_score(y_test, y_pred)\n",
        "print(f\"F1-Score: {f1:.3f}\")\n",
        "\n",
        "cm = confusion_matrix(y_test, y_pred)\n",
        "plot_confusion_matrix(cm)\n",
        "\n",
        "# Print the structure of the decision tree\n",
        "decision_tree_classifier.print_tree(feature_names=X.columns)"
      ]
    },
    {
      "cell_type": "markdown",
      "id": "24023375",
      "metadata": {
        "id": "24023375"
      },
      "source": [
        "## 3.2 Bagging Ensemble"
      ]
    },
    {
      "cell_type": "code",
      "execution_count": null,
      "id": "3d6d149a",
      "metadata": {
        "id": "3d6d149a"
      },
      "outputs": [],
      "source": []
    },
    {
      "cell_type": "markdown",
      "id": "94873570",
      "metadata": {
        "id": "94873570"
      },
      "source": [
        "## 3.3 AdaBoost Ensemble"
      ]
    },
    {
      "cell_type": "markdown",
      "source": [
        "### AdaBoost Classifier Class"
      ],
      "metadata": {
        "id": "YN00hewKEQUW"
      },
      "id": "YN00hewKEQUW"
    },
    {
      "cell_type": "code",
      "execution_count": 16,
      "id": "5b8d4539",
      "metadata": {
        "id": "5b8d4539"
      },
      "outputs": [],
      "source": [
        "class AdaBoostClassifier:\n",
        "    def __init__(self, T=50):\n",
        "        \"\"\"Initialize AdaBoost with the number of iterations T.\"\"\"\n",
        "        self.T = T\n",
        "        self.h_t = []      # List to store weak learners\n",
        "        self.alpha_t = []  # Their corresponding weights\n",
        "\n",
        "    def fit(self, X, y):\n",
        "        \"\"\"Train the AdaBoost classifier using input features X and labels y.\"\"\"\n",
        "        N = X.shape[0]  # Number of samples\n",
        "        self.w = np.full(N, 1 / N)  # Initialize weights uniformly\n",
        "\n",
        "        # Ensure labels are -1 and 1 for correct weight updates\n",
        "        y = np.where(y == 0, -1, 1)\n",
        "\n",
        "        for t in range(self.T):\n",
        "            # Train a weak learner with weighted samples\n",
        "            ht = DecisionTreeClassifier(max_depth=1)  # Decision stump\n",
        "            ht.fit(X, y, sample_weight=self.w)  # Pass weights into fit\n",
        "\n",
        "            # Get predictions\n",
        "            y_pred = ht.predict(X)\n",
        "\n",
        "            # Compute weighted error\n",
        "            incorrect = (y_pred != y).astype(int)\n",
        "            errt = np.sum(self.w * incorrect) / np.sum(self.w)\n",
        "\n",
        "            # Avoid division by zero\n",
        "            errt = max(errt, 1e-10)\n",
        "            alpha_t = 0.5 * np.log((1 - errt) / errt)\n",
        "\n",
        "            # Update sample weights\n",
        "            self.w *= np.exp(2 * alpha_t * incorrect)\n",
        "            self.w /= np.sum(self.w)  # Normalize\n",
        "\n",
        "            # Save weak learner and weight\n",
        "            self.h_t.append(ht)\n",
        "            self.alpha_t.append(alpha_t)\n",
        "\n",
        "    def predict(self, X):\n",
        "        \"\"\"Make predictions for each sample in X\"\"\"\n",
        "        # Get predictions from all weak learners\n",
        "        y_preds = np.asarray([ht.predict(X) for ht in self.h_t])  # Shape: (T, N)\n",
        "        alpha_t = np.array(self.alpha_t).reshape(len(self.alpha_t), 1)\n",
        "\n",
        "        # Compute final prediction H(x) and convert back to {0,1}\n",
        "        preds = np.sign(y_preds.T @ alpha_t).flatten()\n",
        "        return np.where(preds == -1, 0, 1)"
      ]
    },
    {
      "cell_type": "markdown",
      "source": [
        "### Training the AdaBoost Classifier"
      ],
      "metadata": {
        "id": "IbYXWyhiF89V"
      },
      "id": "IbYXWyhiF89V"
    },
    {
      "cell_type": "code",
      "source": [
        "ada_boost_classifier = AdaBoostClassifier()\n",
        "ada_boost_classifier.fit(X_train, y_train)"
      ],
      "metadata": {
        "id": "bEwjlrCOGXZJ"
      },
      "id": "bEwjlrCOGXZJ",
      "execution_count": 17,
      "outputs": []
    },
    {
      "cell_type": "markdown",
      "source": [
        "### Hyperparameters tuning"
      ],
      "metadata": {
        "id": "MEpB78ikGtGH"
      },
      "id": "MEpB78ikGtGH"
    },
    {
      "cell_type": "code",
      "source": [
        "T_values = [10, 50, 100, 200, 300, 500]\n",
        "train_acc = []\n",
        "val_acc = []\n",
        "\n",
        "for T in T_values:\n",
        "    model = AdaBoostClassifier(T=T)\n",
        "    model.fit(X_train, y_train)\n",
        "\n",
        "    # Evaluate accuracy\n",
        "    train_acc.append(accuracy_score(y_train, model.predict(X_train)))\n",
        "    val_acc.append(accuracy_score(y_val, model.predict(X_val)))  # Use validation set\n",
        "\n",
        "# Plot results\n",
        "plt.plot(T_values, train_acc, label=\"Train Accuracy\", marker=\"o\")\n",
        "plt.plot(T_values, val_acc, label=\"Validation Accuracy\", marker=\"s\")\n",
        "plt.xlabel(\"Number of Iterations (T)\")\n",
        "plt.ylabel(\"Accuracy\")\n",
        "plt.legend()\n",
        "plt.title(\"Effect of T on Accuracy\")\n",
        "plt.show()"
      ],
      "metadata": {
        "colab": {
          "base_uri": "https://localhost:8080/",
          "height": 472
        },
        "id": "q70_CF7eG82Q",
        "outputId": "73f27bda-d63b-4c1a-d1b8-d658b0e23b41"
      },
      "id": "q70_CF7eG82Q",
      "execution_count": 38,
      "outputs": [
        {
          "output_type": "display_data",
          "data": {
            "text/plain": [
              "<Figure size 640x480 with 1 Axes>"
            ],
            "image/png": "[encoded data removed]"
          },
          "metadata": {}
        }
      ]
    },
    {
      "cell_type": "markdown",
      "source": [
        "### Training the Final Model with the Optimal Hyperparameters"
      ],
      "metadata": {
        "id": "UDALSTZPIZj5"
      },
      "id": "UDALSTZPIZj5"
    },
    {
      "cell_type": "code",
      "source": [
        "# Find the best hyperparameters\n",
        "best_T = T_values[np.argmax(val_acc)]\n",
        "print(f\"Best T: {best_T}, Best Validation Accuracy: {max(val_acc):.4f}\")\n",
        "\n",
        "# Intialize and train the AdaBoost Classifier with the best hyperparameters\n",
        "ada_boost_classifier = AdaBoostClassifier(T = best_T)\n",
        "ada_boost_classifier.fit(X_train, y_train)\n",
        "\n",
        "# Make predictions and evaluate the model on the test set\n",
        "y_pred = ada_boost_classifier.predict(X_test)\n",
        "\n",
        "# Calculate the misclassification rate, accuracy, F1-score, and confusion matrix\n",
        "misclassification_rate = np.mean(y_pred != y_test)\n",
        "print(f\"Misclassification Rate: {misclassification_rate: .3f}\")\n",
        "\n",
        "accuracy = accuracy_score(y_test, y_pred)\n",
        "print(f\"Accuracy: {accuracy: .3f}\")\n",
        "\n",
        "f1 = f1_score(y_test, y_pred)\n",
        "print(f\"F1-Score: {f1:.3f}\")\n",
        "\n",
        "cm = confusion_matrix(y_test, y_pred)\n",
        "plot_confusion_matrix(cm)"
      ],
      "metadata": {
        "colab": {
          "base_uri": "https://localhost:8080/",
          "height": 576
        },
        "id": "vqREdjJ0IXAM",
        "outputId": "d2f86c53-e7c9-48e2-9e44-34b48b2a67cb"
      },
      "id": "vqREdjJ0IXAM",
      "execution_count": 39,
      "outputs": [
        {
          "output_type": "stream",
          "name": "stdout",
          "text": [
            "Best T: 10, Best Validation Accuracy: 0.8043\n",
            "Misclassification Rate:  0.163\n",
            "Accuracy:  0.837\n",
            "F1-Score: 0.845\n"
          ]
        },
        {
          "output_type": "display_data",
          "data": {
            "text/plain": [
              "<Figure size 600x600 with 2 Axes>"
            ],
            "image/png": "[encoded data removed]"
          },
          "metadata": {}
        }
      ]
    },
    {
      "cell_type": "markdown",
      "id": "fa95c651",
      "metadata": {
        "id": "fa95c651"
      },
      "source": [
        "# 4. Bonus"
      ]
    },
    {
      "cell_type": "markdown",
      "id": "8e1d2452",
      "metadata": {
        "id": "8e1d2452"
      },
      "source": [
        "## 4.1 K-Nearest Neighbors (KNN) Classifier"
      ]
    },
    {
      "cell_type": "markdown",
      "source": [
        "### Training the KNN model"
      ],
      "metadata": {
        "id": "nqmrAEZhVgVS"
      },
      "id": "nqmrAEZhVgVS"
    },
    {
      "cell_type": "code",
      "execution_count": 40,
      "id": "0ae4a466",
      "metadata": {
        "id": "0ae4a466"
      },
      "outputs": [],
      "source": [
        "k_values = [3, 5, 7, 11, 15, 21]\n",
        "val_acc = []\n",
        "\n",
        "# Train KNN for different values of k\n",
        "for k in k_values:\n",
        "    knn = KNeighborsClassifier(n_neighbors=k)\n",
        "    knn.fit(X_train, y_train)  # Train model\n",
        "\n",
        "    # Predict on validation set\n",
        "    y_val_pred = knn.predict(X_val)\n",
        "    acc = accuracy_score(y_val, y_val_pred)  # Compute accuracy\n",
        "    val_acc.append(acc)"
      ]
    },
    {
      "cell_type": "markdown",
      "source": [
        "### Selecting Best Performing K"
      ],
      "metadata": {
        "id": "1mVg6jKuV187"
      },
      "id": "1mVg6jKuV187"
    },
    {
      "cell_type": "code",
      "source": [
        "# Find the best k\n",
        "best_k = k_values[np.argmax(val_acc)]\n",
        "print(f\"Best k: {best_k}, Best Validation Accuracy: {max(val_acc):.4f}\")\n",
        "\n",
        "# Train final model with best k\n",
        "best_knn = KNeighborsClassifier(n_neighbors=best_k)\n",
        "best_knn.fit(X_train, y_train)\n",
        "\n",
        "# Evaluate on test set\n",
        "y_test_pred = best_knn.predict(X_test)\n",
        "test_acc = accuracy_score(y_test, y_test_pred)\n",
        "print(f\"Test Accuracy with k={best_k}: {test_acc:.4f}\")\n",
        "\n",
        "# Plot validation accuracy vs. k\n",
        "plt.plot(k_values, val_acc, marker=\"o\", linestyle=\"-\")\n",
        "plt.xlabel(\"Number of Neighbors (k)\")\n",
        "plt.ylabel(\"Validation Accuracy\")\n",
        "plt.title(\"Tuning k in KNN\")\n",
        "plt.show()"
      ],
      "metadata": {
        "colab": {
          "base_uri": "https://localhost:8080/",
          "height": 507
        },
        "id": "2wB9gJkoWEwr",
        "outputId": "721f990d-e598-4551-ffd4-5bb1931758f4"
      },
      "id": "2wB9gJkoWEwr",
      "execution_count": 41,
      "outputs": [
        {
          "output_type": "stream",
          "name": "stdout",
          "text": [
            "Best k: 5, Best Validation Accuracy: 0.7283\n",
            "Test Accuracy with k=5: 0.7065\n"
          ]
        },
        {
          "output_type": "display_data",
          "data": {
            "text/plain": [
              "<Figure size 640x480 with 1 Axes>"
            ],
            "image/png": "[encoded data removed]"
          },
          "metadata": {}
        }
      ]
    },
    {
      "cell_type": "markdown",
      "id": "fabea6f2",
      "metadata": {
        "id": "fabea6f2"
      },
      "source": [
        "## 4.2 Logistic Regression"
      ]
    },
    {
      "cell_type": "code",
      "execution_count": null,
      "id": "013b4a64",
      "metadata": {
        "id": "013b4a64"
      },
      "outputs": [],
      "source": []
    },
    {
      "cell_type": "markdown",
      "id": "699ecf69",
      "metadata": {
        "id": "699ecf69"
      },
      "source": [
        "## 4.3 Feedforward Neural Network (FNN) with Keras"
      ]
    },
    {
      "cell_type": "markdown",
      "id": "1f229a37",
      "metadata": {
        "id": "1f229a37"
      },
      "source": [
        "### Building the Neural Network Model"
      ]
    },
    {
      "cell_type": "code",
      "execution_count": 33,
      "id": "891f4975",
      "metadata": {
        "colab": {
          "base_uri": "https://localhost:8080/"
        },
        "id": "891f4975",
        "outputId": "970d5c80-5365-4a35-f830-fa75fb4c9920"
      },
      "outputs": [
        {
          "output_type": "stream",
          "name": "stderr",
          "text": [
            "/usr/local/lib/python3.11/dist-packages/keras/src/layers/core/dense.py:87: UserWarning: Do not pass an `input_shape`/`input_dim` argument to a layer. When using Sequential models, prefer using an `Input(shape)` object as the first layer in the model instead.\n",
            "  super().__init__(activity_regularizer=activity_regularizer, **kwargs)\n"
          ]
        },
        {
          "output_type": "stream",
          "name": "stdout",
          "text": [
            "Epoch 1/50\n",
            "\u001b[1m21/21\u001b[0m \u001b[32m━━━━━━━━━━━━━━━━━━━━\u001b[0m\u001b[37m\u001b[0m \u001b[1m1s\u001b[0m 3ms/step - accuracy: 0.3838 - loss: 0.8513   \n",
            "Epoch 2/50\n",
            "\u001b[1m21/21\u001b[0m \u001b[32m━━━━━━━━━━━━━━━━━━━━\u001b[0m\u001b[37m\u001b[0m \u001b[1m0s\u001b[0m 3ms/step - accuracy: 0.4698 - loss: 0.7393 \n",
            "Epoch 3/50\n",
            "\u001b[1m21/21\u001b[0m \u001b[32m━━━━━━━━━━━━━━━━━━━━\u001b[0m\u001b[37m\u001b[0m \u001b[1m0s\u001b[0m 3ms/step - accuracy: 0.5877 - loss: 0.6629 \n",
            "Epoch 4/50\n",
            "\u001b[1m21/21\u001b[0m \u001b[32m━━━━━━━━━━━━━━━━━━━━\u001b[0m\u001b[37m\u001b[0m \u001b[1m0s\u001b[0m 3ms/step - accuracy: 0.6948 - loss: 0.6087 \n",
            "Epoch 5/50\n",
            "\u001b[1m21/21\u001b[0m \u001b[32m━━━━━━━━━━━━━━━━━━━━\u001b[0m\u001b[37m\u001b[0m \u001b[1m0s\u001b[0m 3ms/step - accuracy: 0.7505 - loss: 0.5680 \n",
            "Epoch 6/50\n",
            "\u001b[1m21/21\u001b[0m \u001b[32m━━━━━━━━━━━━━━━━━━━━\u001b[0m\u001b[37m\u001b[0m \u001b[1m0s\u001b[0m 3ms/step - accuracy: 0.7853 - loss: 0.5362 \n",
            "Epoch 7/50\n",
            "\u001b[1m21/21\u001b[0m \u001b[32m━━━━━━━━━━━━━━━━━━━━\u001b[0m\u001b[37m\u001b[0m \u001b[1m0s\u001b[0m 3ms/step - accuracy: 0.8170 - loss: 0.5107 \n",
            "Epoch 8/50\n",
            "\u001b[1m21/21\u001b[0m \u001b[32m━━━━━━━━━━━━━━━━━━━━\u001b[0m\u001b[37m\u001b[0m \u001b[1m0s\u001b[0m 3ms/step - accuracy: 0.8237 - loss: 0.4891 \n",
            "Epoch 9/50\n",
            "\u001b[1m21/21\u001b[0m \u001b[32m━━━━━━━━━━━━━━━━━━━━\u001b[0m\u001b[37m\u001b[0m \u001b[1m0s\u001b[0m 3ms/step - accuracy: 0.8357 - loss: 0.4709 \n",
            "Epoch 10/50\n",
            "\u001b[1m21/21\u001b[0m \u001b[32m━━━━━━━━━━━━━━━━━━━━\u001b[0m\u001b[37m\u001b[0m \u001b[1m0s\u001b[0m 3ms/step - accuracy: 0.8390 - loss: 0.4552 \n",
            "Epoch 11/50\n",
            "\u001b[1m21/21\u001b[0m \u001b[32m━━━━━━━━━━━━━━━━━━━━\u001b[0m\u001b[37m\u001b[0m \u001b[1m0s\u001b[0m 3ms/step - accuracy: 0.8491 - loss: 0.4415 \n",
            "Epoch 12/50\n",
            "\u001b[1m21/21\u001b[0m \u001b[32m━━━━━━━━━━━━━━━━━━━━\u001b[0m\u001b[37m\u001b[0m \u001b[1m0s\u001b[0m 3ms/step - accuracy: 0.8550 - loss: 0.4294 \n",
            "Epoch 13/50\n",
            "\u001b[1m21/21\u001b[0m \u001b[32m━━━━━━━━━━━━━━━━━━━━\u001b[0m\u001b[37m\u001b[0m \u001b[1m0s\u001b[0m 3ms/step - accuracy: 0.8562 - loss: 0.4187 \n",
            "Epoch 14/50\n",
            "\u001b[1m21/21\u001b[0m \u001b[32m━━━━━━━━━━━━━━━━━━━━\u001b[0m\u001b[37m\u001b[0m \u001b[1m0s\u001b[0m 3ms/step - accuracy: 0.8566 - loss: 0.4091 \n",
            "Epoch 15/50\n",
            "\u001b[1m21/21\u001b[0m \u001b[32m━━━━━━━━━━━━━━━━━━━━\u001b[0m\u001b[37m\u001b[0m \u001b[1m0s\u001b[0m 3ms/step - accuracy: 0.8598 - loss: 0.4006 \n",
            "Epoch 16/50\n",
            "\u001b[1m21/21\u001b[0m \u001b[32m━━━━━━━━━━━━━━━━━━━━\u001b[0m\u001b[37m\u001b[0m \u001b[1m0s\u001b[0m 3ms/step - accuracy: 0.8637 - loss: 0.3929 \n",
            "Epoch 17/50\n",
            "\u001b[1m21/21\u001b[0m \u001b[32m━━━━━━━━━━━━━━━━━━━━\u001b[0m\u001b[37m\u001b[0m \u001b[1m0s\u001b[0m 3ms/step - accuracy: 0.8669 - loss: 0.3860 \n",
            "Epoch 18/50\n",
            "\u001b[1m21/21\u001b[0m \u001b[32m━━━━━━━━━━━━━━━━━━━━\u001b[0m\u001b[37m\u001b[0m \u001b[1m0s\u001b[0m 3ms/step - accuracy: 0.8679 - loss: 0.3798 \n",
            "Epoch 19/50\n",
            "\u001b[1m21/21\u001b[0m \u001b[32m━━━━━━━━━━━━━━━━━━━━\u001b[0m\u001b[37m\u001b[0m \u001b[1m0s\u001b[0m 3ms/step - accuracy: 0.8699 - loss: 0.3741 \n",
            "Epoch 20/50\n",
            "\u001b[1m21/21\u001b[0m \u001b[32m━━━━━━━━━━━━━━━━━━━━\u001b[0m\u001b[37m\u001b[0m \u001b[1m0s\u001b[0m 3ms/step - accuracy: 0.8722 - loss: 0.3690 \n",
            "Epoch 21/50\n",
            "\u001b[1m21/21\u001b[0m \u001b[32m━━━━━━━━━━━━━━━━━━━━\u001b[0m\u001b[37m\u001b[0m \u001b[1m0s\u001b[0m 3ms/step - accuracy: 0.8719 - loss: 0.3643 \n",
            "Epoch 22/50\n",
            "\u001b[1m21/21\u001b[0m \u001b[32m━━━━━━━━━━━━━━━━━━━━\u001b[0m\u001b[37m\u001b[0m \u001b[1m0s\u001b[0m 3ms/step - accuracy: 0.8721 - loss: 0.3601 \n",
            "Epoch 23/50\n",
            "\u001b[1m21/21\u001b[0m \u001b[32m━━━━━━━━━━━━━━━━━━━━\u001b[0m\u001b[37m\u001b[0m \u001b[1m0s\u001b[0m 3ms/step - accuracy: 0.8721 - loss: 0.3563 \n",
            "Epoch 24/50\n",
            "\u001b[1m21/21\u001b[0m \u001b[32m━━━━━━━━━━━━━━━━━━━━\u001b[0m\u001b[37m\u001b[0m \u001b[1m0s\u001b[0m 3ms/step - accuracy: 0.8721 - loss: 0.3527 \n",
            "Epoch 25/50\n",
            "\u001b[1m21/21\u001b[0m \u001b[32m━━━━━━━━━━━━━━━━━━━━\u001b[0m\u001b[37m\u001b[0m \u001b[1m0s\u001b[0m 3ms/step - accuracy: 0.8721 - loss: 0.3495 \n",
            "Epoch 26/50\n",
            "\u001b[1m21/21\u001b[0m \u001b[32m━━━━━━━━━━━━━━━━━━━━\u001b[0m\u001b[37m\u001b[0m \u001b[1m0s\u001b[0m 3ms/step - accuracy: 0.8724 - loss: 0.3465 \n",
            "Epoch 27/50\n",
            "\u001b[1m21/21\u001b[0m \u001b[32m━━━━━━━━━━━━━━━━━━━━\u001b[0m\u001b[37m\u001b[0m \u001b[1m0s\u001b[0m 3ms/step - accuracy: 0.8726 - loss: 0.3438 \n",
            "Epoch 28/50\n",
            "\u001b[1m21/21\u001b[0m \u001b[32m━━━━━━━━━━━━━━━━━━━━\u001b[0m\u001b[37m\u001b[0m \u001b[1m0s\u001b[0m 3ms/step - accuracy: 0.8749 - loss: 0.3413 \n",
            "Epoch 29/50\n",
            "\u001b[1m21/21\u001b[0m \u001b[32m━━━━━━━━━━━━━━━━━━━━\u001b[0m\u001b[37m\u001b[0m \u001b[1m0s\u001b[0m 4ms/step - accuracy: 0.8749 - loss: 0.3390 \n",
            "Epoch 30/50\n",
            "\u001b[1m21/21\u001b[0m \u001b[32m━━━━━━━━━━━━━━━━━━━━\u001b[0m\u001b[37m\u001b[0m \u001b[1m0s\u001b[0m 3ms/step - accuracy: 0.8749 - loss: 0.3368 \n",
            "Epoch 31/50\n",
            "\u001b[1m21/21\u001b[0m \u001b[32m━━━━━━━━━━━━━━━━━━━━\u001b[0m\u001b[37m\u001b[0m \u001b[1m0s\u001b[0m 3ms/step - accuracy: 0.8722 - loss: 0.3348 \n",
            "Epoch 32/50\n",
            "\u001b[1m21/21\u001b[0m \u001b[32m━━━━━━━━━━━━━━━━━━━━\u001b[0m\u001b[37m\u001b[0m \u001b[1m0s\u001b[0m 3ms/step - accuracy: 0.8747 - loss: 0.3330 \n",
            "Epoch 33/50\n",
            "\u001b[1m21/21\u001b[0m \u001b[32m━━━━━━━━━━━━━━━━━━━━\u001b[0m\u001b[37m\u001b[0m \u001b[1m0s\u001b[0m 3ms/step - accuracy: 0.8758 - loss: 0.3313 \n",
            "Epoch 34/50\n",
            "\u001b[1m21/21\u001b[0m \u001b[32m━━━━━━━━━━━━━━━━━━━━\u001b[0m\u001b[37m\u001b[0m \u001b[1m0s\u001b[0m 3ms/step - accuracy: 0.8811 - loss: 0.3297 \n",
            "Epoch 35/50\n",
            "\u001b[1m21/21\u001b[0m \u001b[32m━━━━━━━━━━━━━━━━━━━━\u001b[0m\u001b[37m\u001b[0m \u001b[1m0s\u001b[0m 3ms/step - accuracy: 0.8811 - loss: 0.3282 \n",
            "Epoch 36/50\n",
            "\u001b[1m21/21\u001b[0m \u001b[32m━━━━━━━━━━━━━━━━━━━━\u001b[0m\u001b[37m\u001b[0m \u001b[1m0s\u001b[0m 3ms/step - accuracy: 0.8811 - loss: 0.3269 \n",
            "Epoch 37/50\n",
            "\u001b[1m21/21\u001b[0m \u001b[32m━━━━━━━━━━━━━━━━━━━━\u001b[0m\u001b[37m\u001b[0m \u001b[1m0s\u001b[0m 3ms/step - accuracy: 0.8811 - loss: 0.3255 \n",
            "Epoch 38/50\n",
            "\u001b[1m21/21\u001b[0m \u001b[32m━━━━━━━━━━━━━━━━━━━━\u001b[0m\u001b[37m\u001b[0m \u001b[1m0s\u001b[0m 3ms/step - accuracy: 0.8811 - loss: 0.3243 \n",
            "Epoch 39/50\n",
            "\u001b[1m21/21\u001b[0m \u001b[32m━━━━━━━━━━━━━━━━━━━━\u001b[0m\u001b[37m\u001b[0m \u001b[1m0s\u001b[0m 3ms/step - accuracy: 0.8811 - loss: 0.3231 \n",
            "Epoch 40/50\n",
            "\u001b[1m21/21\u001b[0m \u001b[32m━━━━━━━━━━━━━━━━━━━━\u001b[0m\u001b[37m\u001b[0m \u001b[1m0s\u001b[0m 3ms/step - accuracy: 0.8811 - loss: 0.3219 \n",
            "Epoch 41/50\n",
            "\u001b[1m21/21\u001b[0m \u001b[32m━━━━━━━━━━━━━━━━━━━━\u001b[0m\u001b[37m\u001b[0m \u001b[1m0s\u001b[0m 3ms/step - accuracy: 0.8811 - loss: 0.3207 \n",
            "Epoch 42/50\n",
            "\u001b[1m21/21\u001b[0m \u001b[32m━━━━━━━━━━━━━━━━━━━━\u001b[0m\u001b[37m\u001b[0m \u001b[1m0s\u001b[0m 3ms/step - accuracy: 0.8787 - loss: 0.3196 \n",
            "Epoch 43/50\n",
            "\u001b[1m21/21\u001b[0m \u001b[32m━━━━━━━━━━━━━━━━━━━━\u001b[0m\u001b[37m\u001b[0m \u001b[1m0s\u001b[0m 3ms/step - accuracy: 0.8787 - loss: 0.3186 \n",
            "Epoch 44/50\n",
            "\u001b[1m21/21\u001b[0m \u001b[32m━━━━━━━━━━━━━━━━━━━━\u001b[0m\u001b[37m\u001b[0m \u001b[1m0s\u001b[0m 3ms/step - accuracy: 0.8787 - loss: 0.3176 \n",
            "Epoch 45/50\n",
            "\u001b[1m21/21\u001b[0m \u001b[32m━━━━━━━━━━━━━━━━━━━━\u001b[0m\u001b[37m\u001b[0m \u001b[1m0s\u001b[0m 3ms/step - accuracy: 0.8787 - loss: 0.3166 \n",
            "Epoch 46/50\n",
            "\u001b[1m21/21\u001b[0m \u001b[32m━━━━━━━━━━━━━━━━━━━━\u001b[0m\u001b[37m\u001b[0m \u001b[1m0s\u001b[0m 3ms/step - accuracy: 0.8787 - loss: 0.3157 \n",
            "Epoch 47/50\n",
            "\u001b[1m21/21\u001b[0m \u001b[32m━━━━━━━━━━━━━━━━━━━━\u001b[0m\u001b[37m\u001b[0m \u001b[1m0s\u001b[0m 3ms/step - accuracy: 0.8794 - loss: 0.3148 \n",
            "Epoch 48/50\n",
            "\u001b[1m21/21\u001b[0m \u001b[32m━━━━━━━━━━━━━━━━━━━━\u001b[0m\u001b[37m\u001b[0m \u001b[1m0s\u001b[0m 3ms/step - accuracy: 0.8794 - loss: 0.3139 \n",
            "Epoch 49/50\n",
            "\u001b[1m21/21\u001b[0m \u001b[32m━━━━━━━━━━━━━━━━━━━━\u001b[0m\u001b[37m\u001b[0m \u001b[1m0s\u001b[0m 4ms/step - accuracy: 0.8799 - loss: 0.3130 \n",
            "Epoch 50/50\n",
            "\u001b[1m21/21\u001b[0m \u001b[32m━━━━━━━━━━━━━━━━━━━━\u001b[0m\u001b[37m\u001b[0m \u001b[1m0s\u001b[0m 3ms/step - accuracy: 0.8799 - loss: 0.3121 \n",
            "\u001b[1m6/6\u001b[0m \u001b[32m━━━━━━━━━━━━━━━━━━━━\u001b[0m\u001b[37m\u001b[0m \u001b[1m0s\u001b[0m 7ms/step - accuracy: 0.8683 - loss: 0.3117  \n",
            "Test loss before tuning: 0.34877660870552063\n",
            "Test accuracy before tuning: 0.8586956262588501\n"
          ]
        }
      ],
      "source": [
        "# Initialize the neural network\n",
        "network = models.Sequential()\n",
        "\n",
        "# Add the hidden layer with ReLU activation function\n",
        "network.add(layers.Dense(16, activation='relu', input_shape=(X.shape[1],)))\n",
        "\n",
        "# Add the output layer with sigmoid activation function\n",
        "network.add(layers.Dense(1, activation='sigmoid'))\n",
        "\n",
        "# Add SGD optimizer with learning rate 0.01\n",
        "optimizer = optimizers.SGD(learning_rate=0.01)\n",
        "\n",
        "# Compile the network with binary cross-entropy loss function\n",
        "network.compile(loss='binary_crossentropy', optimizer=optimizer, metrics=['accuracy'])\n",
        "\n",
        "# Train the network\n",
        "history = network.fit(X_train_scaled,\n",
        "                      y_train,\n",
        "                      epochs=50,\n",
        "                      verbose=1)\n",
        "\n",
        "# Evaluate the network\n",
        "test_loss, test_accuracy = network.evaluate(X_test_scaled, y_test)\n",
        "print(f'Test loss before tuning: {test_loss}')\n",
        "print(f'Test accuracy before tuning: {test_accuracy}')"
      ]
    },
    {
      "cell_type": "markdown",
      "id": "4ab347ec",
      "metadata": {
        "id": "4ab347ec"
      },
      "source": [
        "### Hyperparameters Tuning"
      ]
    },
    {
      "cell_type": "code",
      "execution_count": 34,
      "id": "cbd7f9d8",
      "metadata": {
        "colab": {
          "base_uri": "https://localhost:8080/"
        },
        "id": "cbd7f9d8",
        "outputId": "c699fecb-5698-4ce1-bbcc-ee364e83b117"
      },
      "outputs": [
        {
          "output_type": "stream",
          "name": "stdout",
          "text": [
            "lr=0.001, n_neurons=8, n_epochs=50, val_accuracy=0.717391312122345\n",
            "lr=0.001, n_neurons=8, n_epochs=100, val_accuracy=0.782608687877655\n",
            "lr=0.001, n_neurons=8, n_epochs=200, val_accuracy=0.760869562625885\n",
            "lr=0.001, n_neurons=8, n_epochs=500, val_accuracy=0.8478260636329651\n",
            "lr=0.001, n_neurons=16, n_epochs=50, val_accuracy=0.72826087474823\n",
            "lr=0.001, n_neurons=16, n_epochs=100, val_accuracy=0.804347813129425\n",
            "lr=0.001, n_neurons=16, n_epochs=200, val_accuracy=0.782608687877655\n",
            "lr=0.001, n_neurons=16, n_epochs=500, val_accuracy=0.79347825050354\n",
            "lr=0.001, n_neurons=32, n_epochs=50, val_accuracy=0.695652186870575\n",
            "lr=0.001, n_neurons=32, n_epochs=100, val_accuracy=0.77173912525177\n",
            "lr=0.001, n_neurons=32, n_epochs=200, val_accuracy=0.8478260636329651\n",
            "lr=0.001, n_neurons=32, n_epochs=500, val_accuracy=0.804347813129425\n",
            "lr=0.01, n_neurons=8, n_epochs=50, val_accuracy=0.8152173757553101\n",
            "lr=0.01, n_neurons=8, n_epochs=100, val_accuracy=0.782608687877655\n",
            "lr=0.01, n_neurons=8, n_epochs=200, val_accuracy=0.804347813129425\n",
            "lr=0.01, n_neurons=8, n_epochs=500, val_accuracy=0.8152173757553101\n",
            "lr=0.01, n_neurons=16, n_epochs=50, val_accuracy=0.79347825050354\n",
            "lr=0.01, n_neurons=16, n_epochs=100, val_accuracy=0.804347813129425\n",
            "lr=0.01, n_neurons=16, n_epochs=200, val_accuracy=0.8152173757553101\n",
            "lr=0.01, n_neurons=16, n_epochs=500, val_accuracy=0.8152173757553101\n",
            "lr=0.01, n_neurons=32, n_epochs=50, val_accuracy=0.79347825050354\n",
            "lr=0.01, n_neurons=32, n_epochs=100, val_accuracy=0.8260869383811951\n",
            "lr=0.01, n_neurons=32, n_epochs=200, val_accuracy=0.8478260636329651\n",
            "lr=0.01, n_neurons=32, n_epochs=500, val_accuracy=0.8478260636329651\n",
            "lr=0.1, n_neurons=8, n_epochs=50, val_accuracy=0.8369565010070801\n",
            "lr=0.1, n_neurons=8, n_epochs=100, val_accuracy=0.8804348111152649\n",
            "lr=0.1, n_neurons=8, n_epochs=200, val_accuracy=0.8260869383811951\n",
            "lr=0.1, n_neurons=8, n_epochs=500, val_accuracy=0.8369565010070801\n",
            "lr=0.1, n_neurons=16, n_epochs=50, val_accuracy=0.8586956262588501\n",
            "lr=0.1, n_neurons=16, n_epochs=100, val_accuracy=0.8478260636329651\n",
            "lr=0.1, n_neurons=16, n_epochs=200, val_accuracy=0.8478260636329651\n",
            "lr=0.1, n_neurons=16, n_epochs=500, val_accuracy=0.8586956262588501\n",
            "lr=0.1, n_neurons=32, n_epochs=50, val_accuracy=0.8260869383811951\n",
            "lr=0.1, n_neurons=32, n_epochs=100, val_accuracy=0.804347813129425\n",
            "lr=0.1, n_neurons=32, n_epochs=200, val_accuracy=0.8586956262588501\n",
            "lr=0.1, n_neurons=32, n_epochs=500, val_accuracy=0.8369565010070801\n",
            "Best hyperparameters: lr=0.1, n_neurons=8, n_epochs=100\n"
          ]
        }
      ],
      "source": [
        "# Tuning the hyperparameters\n",
        "learning_rates = [0.001, 0.01, 0.1]\n",
        "hidden_units = [8, 16, 32]\n",
        "epochs = [50, 100, 200, 500]\n",
        "\n",
        "best_accuracy = 0\n",
        "best_hyperparameters = None\n",
        "\n",
        "for lr in learning_rates:\n",
        "    for n_neurons in hidden_units:\n",
        "        for n_epochs in epochs:\n",
        "            network = models.Sequential()\n",
        "            network.add(layers.Dense(n_neurons, activation='relu', input_shape=(X.shape[1],)))\n",
        "            network.add(layers.Dense(1, activation='sigmoid'))\n",
        "            optimizer = optimizers.SGD(learning_rate=lr)\n",
        "            network.compile(loss='binary_crossentropy', optimizer=optimizer, metrics=['accuracy'])\n",
        "            # Early stopping\n",
        "            early_stopping = EarlyStopping(monitor='val_loss', patience=20, restore_best_weights=True)\n",
        "            history = network.fit(X_train_scaled,\n",
        "                                    y_train,\n",
        "                                    epochs=n_epochs,\n",
        "                                    verbose=0,\n",
        "                                    callbacks=[early_stopping],\n",
        "                                    validation_data=(X_val_scaled, y_val))\n",
        "            val_loss, val_accuracy = network.evaluate(X_val_scaled, y_val, verbose=0)\n",
        "            print(f'lr={lr}, n_neurons={n_neurons}, n_epochs={n_epochs}, val_accuracy={val_accuracy}')\n",
        "            if val_accuracy > best_accuracy:\n",
        "                best_accuracy = val_accuracy\n",
        "                best_hyperparameters = (lr, n_neurons, n_epochs)\n",
        "\n",
        "print(f\"Best hyperparameters: lr={best_hyperparameters[0]}, n_neurons={best_hyperparameters[1]}, n_epochs={best_hyperparameters[2]}\")"
      ]
    },
    {
      "cell_type": "markdown",
      "id": "f6a34dea",
      "metadata": {
        "id": "f6a34dea"
      },
      "source": [
        "### Training the Final Model with Optimal Hyperparameters"
      ]
    },
    {
      "cell_type": "code",
      "execution_count": null,
      "id": "45f570f6",
      "metadata": {
        "id": "45f570f6"
      },
      "outputs": [],
      "source": [
        "# Initialize the neural network\n",
        "network = models.Sequential()\n",
        "\n",
        "# Add the hidden layer with ReLU activation function\n",
        "network.add(layers.Dense(best_hyperparameters[1], activation='relu', input_shape=(X.shape[1],)))\n",
        "\n",
        "# Add the output layer with sigmoid activation function\n",
        "network.add(layers.Dense(1, activation='sigmoid'))\n",
        "\n",
        "# Add SGD optimizer with learning rate 0.01\n",
        "optimizer = optimizers.SGD(learning_rate=best_hyperparameters[0])\n",
        "\n",
        "# Compile the network with binary cross-entropy loss function\n",
        "network.compile(loss='binary_crossentropy', optimizer=optimizer, metrics=['accuracy'])\n",
        "\n",
        "# Early stopping\n",
        "early_stopping = EarlyStopping(monitor='val_loss', patience=20, restore_best_weights=True)\n",
        "\n",
        "# Train the network\n",
        "history = network.fit(X_train_scaled,\n",
        "                      y_train,\n",
        "                      epochs=best_hyperparameters[2],\n",
        "                      verbose=1,\n",
        "                      callbacks=[early_stopping],\n",
        "                      validation_data=(X_val_scaled, y_val))\n",
        "\n",
        "# Evaluate the network\n",
        "test_loss, test_accuracy = network.evaluate(X_test_scaled, y_test)\n",
        "print(f'Test loss after tuning: {test_loss}')\n",
        "print(f'Test accuracy after tuning: {test_accuracy}')\n",
        "\n",
        "y_pred_prob = network.predict(X_test_scaled)\n",
        "y_pred = (y_pred_prob > 0.5).astype(int).flatten()\n",
        "\n",
        "cm = confusion_matrix(y_test, y_pred)\n",
        "plot_confusion_matrix(cm)\n",
        "\n",
        "f1 = f1_score(y_test, y_pred)\n",
        "print(f\"F1 score: {f1:.4f}\")\n",
        "\n",
        "# Plot loss and accuracy\n",
        "plt.figure(figsize=(12, 4))\n",
        "plt.subplot(1, 2, 1)\n",
        "plt.plot(history.history['loss'], label='Loss')\n",
        "plt.xlabel('Epoch')\n",
        "plt.ylabel('Loss')\n",
        "plt.legend()\n",
        "plt.subplot(1, 2, 2)\n",
        "plt.plot(history.history['accuracy'], label='Accuracy')\n",
        "plt.xlabel('Epoch')\n",
        "plt.ylabel('Accuracy')\n",
        "plt.legend()\n",
        "plt.show()"
      ]
    }
  ],
  "metadata": {
    "kernelspec": {
      "display_name": "Python 3",
      "language": "python",
      "name": "python3"
    },
    "language_info": {
      "codemirror_mode": {
        "name": "ipython",
        "version": 3
      },
      "file_extension": ".py",
      "mimetype": "text/x-python",
      "name": "python",
      "nbconvert_exporter": "python",
      "pygments_lexer": "ipython3",
      "version": "3.12.9"
    },
    "colab": {
      "provenance": []
    }
  },
  "nbformat": 4,
  "nbformat_minor": 5
}